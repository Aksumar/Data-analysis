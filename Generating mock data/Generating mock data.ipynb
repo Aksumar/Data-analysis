{
 "cells": [
  {
   "cell_type": "code",
   "execution_count": 1,
   "metadata": {},
   "outputs": [],
   "source": [
    "import pandas as pd\n",
    "import numpy as np\n",
    "import datetime\n",
    "import random"
   ]
  },
  {
   "cell_type": "code",
   "execution_count": 2,
   "metadata": {},
   "outputs": [],
   "source": [
    "columns = ['Order ID', 'Product', 'Quantity Ordered','Price Each', 'Order Date', 'Purchase Address']\n"
   ]
  },
  {
   "cell_type": "code",
   "execution_count": 3,
   "metadata": {},
   "outputs": [],
   "source": [
    "products ={'Travel Electronics Organizer Bag':19.90, 'GoPro':400, 'Video Camera Camcorder':70,\n",
    "          'eBook Reader':30, 'Oculus Quest 2':300, 'Stereo Gaming Headset for PS4':28, 'Flatscreen TV': 300,\n",
    "  'Macbook Pro Laptop': 1700,\n",
    "  'ThinkPad Laptop': 999.99,\n",
    "  'AA Batteries (4-pack)': 3.84,\n",
    "  'AAA Batteries (4-pack)': 2.99,\n",
    "  'USB-C Charging Cable': 11.95,\n",
    "  'Lightning Charging Cable': 14.95,\n",
    "  'Wired Headphones': 11.99,\n",
    "  'Bose SoundSport Headphones': 99.99,\n",
    "  'Apple Airpods Headphones': 150,\n",
    "  'LG Washing Machine': 600.00,\n",
    "  'LG Dryer': 600.00}"
   ]
  },
  {
   "cell_type": "code",
   "execution_count": 4,
   "metadata": {},
   "outputs": [],
   "source": [
    "df = pd.DataFrame(columns = columns)"
   ]
  },
  {
   "cell_type": "code",
   "execution_count": 5,
   "metadata": {},
   "outputs": [
    {
     "data": {
      "text/html": [
       "<div>\n",
       "<style scoped>\n",
       "    .dataframe tbody tr th:only-of-type {\n",
       "        vertical-align: middle;\n",
       "    }\n",
       "\n",
       "    .dataframe tbody tr th {\n",
       "        vertical-align: top;\n",
       "    }\n",
       "\n",
       "    .dataframe thead th {\n",
       "        text-align: right;\n",
       "    }\n",
       "</style>\n",
       "<table border=\"1\" class=\"dataframe\">\n",
       "  <thead>\n",
       "    <tr style=\"text-align: right;\">\n",
       "      <th></th>\n",
       "      <th>Order ID</th>\n",
       "      <th>Product</th>\n",
       "      <th>Quantity Ordered</th>\n",
       "      <th>Price Each</th>\n",
       "      <th>Order Date</th>\n",
       "      <th>Purchase Address</th>\n",
       "    </tr>\n",
       "  </thead>\n",
       "  <tbody>\n",
       "  </tbody>\n",
       "</table>\n",
       "</div>"
      ],
      "text/plain": [
       "Empty DataFrame\n",
       "Columns: [Order ID, Product, Quantity Ordered, Price Each, Order Date, Purchase Address]\n",
       "Index: []"
      ]
     },
     "execution_count": 5,
     "metadata": {},
     "output_type": "execute_result"
    }
   ],
   "source": [
    "df"
   ]
  },
  {
   "cell_type": "code",
   "execution_count": 6,
   "metadata": {},
   "outputs": [
    {
     "data": {
      "text/html": [
       "<div>\n",
       "<style scoped>\n",
       "    .dataframe tbody tr th:only-of-type {\n",
       "        vertical-align: middle;\n",
       "    }\n",
       "\n",
       "    .dataframe tbody tr th {\n",
       "        vertical-align: top;\n",
       "    }\n",
       "\n",
       "    .dataframe thead th {\n",
       "        text-align: right;\n",
       "    }\n",
       "</style>\n",
       "<table border=\"1\" class=\"dataframe\">\n",
       "  <thead>\n",
       "    <tr style=\"text-align: right;\">\n",
       "      <th></th>\n",
       "      <th>Order ID</th>\n",
       "      <th>Product</th>\n",
       "      <th>Quantity Ordered</th>\n",
       "      <th>Price Each</th>\n",
       "      <th>Order Date</th>\n",
       "      <th>Purchase Address</th>\n",
       "    </tr>\n",
       "  </thead>\n",
       "  <tbody>\n",
       "    <tr>\n",
       "      <th>0</th>\n",
       "      <td>0</td>\n",
       "      <td>Wired Headphones</td>\n",
       "      <td>1</td>\n",
       "      <td>11.99</td>\n",
       "      <td>NA</td>\n",
       "      <td>NA</td>\n",
       "    </tr>\n",
       "    <tr>\n",
       "      <th>1</th>\n",
       "      <td>1</td>\n",
       "      <td>Bose SoundSport Headphones</td>\n",
       "      <td>1</td>\n",
       "      <td>99.99</td>\n",
       "      <td>NA</td>\n",
       "      <td>NA</td>\n",
       "    </tr>\n",
       "    <tr>\n",
       "      <th>2</th>\n",
       "      <td>2</td>\n",
       "      <td>LG Washing Machine</td>\n",
       "      <td>1</td>\n",
       "      <td>600.00</td>\n",
       "      <td>NA</td>\n",
       "      <td>NA</td>\n",
       "    </tr>\n",
       "    <tr>\n",
       "      <th>3</th>\n",
       "      <td>3</td>\n",
       "      <td>LG Dryer</td>\n",
       "      <td>1</td>\n",
       "      <td>600.00</td>\n",
       "      <td>NA</td>\n",
       "      <td>NA</td>\n",
       "    </tr>\n",
       "    <tr>\n",
       "      <th>4</th>\n",
       "      <td>4</td>\n",
       "      <td>ThinkPad Laptop</td>\n",
       "      <td>1</td>\n",
       "      <td>999.99</td>\n",
       "      <td>NA</td>\n",
       "      <td>NA</td>\n",
       "    </tr>\n",
       "    <tr>\n",
       "      <th>...</th>\n",
       "      <td>...</td>\n",
       "      <td>...</td>\n",
       "      <td>...</td>\n",
       "      <td>...</td>\n",
       "      <td>...</td>\n",
       "      <td>...</td>\n",
       "    </tr>\n",
       "    <tr>\n",
       "      <th>995</th>\n",
       "      <td>995</td>\n",
       "      <td>Macbook Pro Laptop</td>\n",
       "      <td>1</td>\n",
       "      <td>1700.00</td>\n",
       "      <td>NA</td>\n",
       "      <td>NA</td>\n",
       "    </tr>\n",
       "    <tr>\n",
       "      <th>996</th>\n",
       "      <td>996</td>\n",
       "      <td>ThinkPad Laptop</td>\n",
       "      <td>1</td>\n",
       "      <td>999.99</td>\n",
       "      <td>NA</td>\n",
       "      <td>NA</td>\n",
       "    </tr>\n",
       "    <tr>\n",
       "      <th>997</th>\n",
       "      <td>997</td>\n",
       "      <td>Lightning Charging Cable</td>\n",
       "      <td>1</td>\n",
       "      <td>14.95</td>\n",
       "      <td>NA</td>\n",
       "      <td>NA</td>\n",
       "    </tr>\n",
       "    <tr>\n",
       "      <th>998</th>\n",
       "      <td>998</td>\n",
       "      <td>ThinkPad Laptop</td>\n",
       "      <td>1</td>\n",
       "      <td>999.99</td>\n",
       "      <td>NA</td>\n",
       "      <td>NA</td>\n",
       "    </tr>\n",
       "    <tr>\n",
       "      <th>999</th>\n",
       "      <td>999</td>\n",
       "      <td>Stereo Gaming Headset for PS4</td>\n",
       "      <td>1</td>\n",
       "      <td>28.00</td>\n",
       "      <td>NA</td>\n",
       "      <td>NA</td>\n",
       "    </tr>\n",
       "  </tbody>\n",
       "</table>\n",
       "<p>1000 rows × 6 columns</p>\n",
       "</div>"
      ],
      "text/plain": [
       "    Order ID                        Product Quantity Ordered  Price Each  \\\n",
       "0          0               Wired Headphones                1       11.99   \n",
       "1          1     Bose SoundSport Headphones                1       99.99   \n",
       "2          2             LG Washing Machine                1      600.00   \n",
       "3          3                       LG Dryer                1      600.00   \n",
       "4          4                ThinkPad Laptop                1      999.99   \n",
       "..       ...                            ...              ...         ...   \n",
       "995      995             Macbook Pro Laptop                1     1700.00   \n",
       "996      996                ThinkPad Laptop                1      999.99   \n",
       "997      997       Lightning Charging Cable                1       14.95   \n",
       "998      998                ThinkPad Laptop                1      999.99   \n",
       "999      999  Stereo Gaming Headset for PS4                1       28.00   \n",
       "\n",
       "    Order Date Purchase Address  \n",
       "0           NA               NA  \n",
       "1           NA               NA  \n",
       "2           NA               NA  \n",
       "3           NA               NA  \n",
       "4           NA               NA  \n",
       "..         ...              ...  \n",
       "995         NA               NA  \n",
       "996         NA               NA  \n",
       "997         NA               NA  \n",
       "998         NA               NA  \n",
       "999         NA               NA  \n",
       "\n",
       "[1000 rows x 6 columns]"
      ]
     },
     "execution_count": 6,
     "metadata": {},
     "output_type": "execute_result"
    }
   ],
   "source": [
    "for i in range(1000):\n",
    "    product = random.choice(list(products.keys()))\n",
    "    price = products[product]\n",
    "    df.loc[i] = [i, product, 1, price, 'NA', 'NA']\n",
    "df"
   ]
  },
  {
   "cell_type": "markdown",
   "metadata": {},
   "source": [
    "# Let's make our data more realistic.\n",
    "\n",
    "## Selecting some products with higher probability\n",
    "\n"
   ]
  },
  {
   "cell_type": "code",
   "execution_count": 7,
   "metadata": {},
   "outputs": [],
   "source": [
    "#Product name :[Price, popularity=weight]\n",
    "\n",
    "products ={'Travel Electronics Organizer Bag':19.90, 'GoPro':400, 'Video Camera Camcorder':70,\n",
    "          'eBook Reader':30, 'Oculus Quest 2':300, 'Stereo Gaming Headset for PS4':28, 'Flatscreen TV': 300,\n",
    "  'Macbook Pro Laptop': 1700,\n",
    "  'ThinkPad Laptop': 999.99,\n",
    "  'AA Batteries (4-pack)': 3.84,\n",
    "  'AAA Batteries (4-pack)': 2.99,\n",
    "  'USB-C Charging Cable': 11.95,\n",
    "  'Lightning Charging Cable': 14.95,\n",
    "  'Wired Headphones': 11.99,\n",
    "  'Bose SoundSport Headphones': 99.99,\n",
    "  'Apple Airpods Headphones': 150,\n",
    "  'LG Washing Machine': 600.00,\n",
    "  'LG Dryer': 600.00}"
   ]
  },
  {
   "cell_type": "code",
   "execution_count": 8,
   "metadata": {},
   "outputs": [
    {
     "data": {
      "text/plain": [
       "{'Wired Headphones': [11.99, 20],\n",
       " 'USB-C Charging Cable': [11.95, 19],\n",
       " 'Flatscreen TV': [300, 18],\n",
       " 'Lightning Charging Cable': [14.95, 18],\n",
       " 'LG Dryer': [600.0, 18],\n",
       " 'Apple Airpods Headphones': [150, 17],\n",
       " 'Video Camera Camcorder': [70, 14],\n",
       " 'ThinkPad Laptop': [999.99, 11],\n",
       " 'Travel Electronics Organizer Bag': [19.9, 9],\n",
       " 'Oculus Quest 2': [300, 9],\n",
       " 'AA Batteries (4-pack)': [3.84, 9],\n",
       " 'eBook Reader': [30, 8],\n",
       " 'Macbook Pro Laptop': [1700, 8],\n",
       " 'GoPro': [400, 7],\n",
       " 'LG Washing Machine': [600.0, 7],\n",
       " 'Bose SoundSport Headphones': [99.99, 6],\n",
       " 'AAA Batteries (4-pack)': [2.99, 5],\n",
       " 'Stereo Gaming Headset for PS4': [28, 2]}"
      ]
     },
     "execution_count": 8,
     "metadata": {},
     "output_type": "execute_result"
    }
   ],
   "source": [
    "# As a I am too lazy to make up 'popularity points' I will generate them.\n",
    "\n",
    "for product in products:\n",
    "    products[product] = [products[product], random.randint(0, 20)]\n",
    "\n",
    "#sort products according popularuty-weight    \n",
    "products = dict(sorted(products.items(), key=lambda item: item[1][1], reverse=True))\n",
    "products"
   ]
  },
  {
   "cell_type": "code",
   "execution_count": 9,
   "metadata": {},
   "outputs": [
    {
     "data": {
      "text/html": [
       "<div>\n",
       "<style scoped>\n",
       "    .dataframe tbody tr th:only-of-type {\n",
       "        vertical-align: middle;\n",
       "    }\n",
       "\n",
       "    .dataframe tbody tr th {\n",
       "        vertical-align: top;\n",
       "    }\n",
       "\n",
       "    .dataframe thead th {\n",
       "        text-align: right;\n",
       "    }\n",
       "</style>\n",
       "<table border=\"1\" class=\"dataframe\">\n",
       "  <thead>\n",
       "    <tr style=\"text-align: right;\">\n",
       "      <th></th>\n",
       "      <th>Order ID</th>\n",
       "      <th>Product</th>\n",
       "      <th>Quantity Ordered</th>\n",
       "      <th>Price Each</th>\n",
       "      <th>Order Date</th>\n",
       "      <th>Purchase Address</th>\n",
       "    </tr>\n",
       "  </thead>\n",
       "  <tbody>\n",
       "    <tr>\n",
       "      <th>0</th>\n",
       "      <td>0</td>\n",
       "      <td>Oculus Quest 2</td>\n",
       "      <td>1</td>\n",
       "      <td>300.00</td>\n",
       "      <td>NA</td>\n",
       "      <td>NA</td>\n",
       "    </tr>\n",
       "    <tr>\n",
       "      <th>1</th>\n",
       "      <td>1</td>\n",
       "      <td>Video Camera Camcorder</td>\n",
       "      <td>1</td>\n",
       "      <td>70.00</td>\n",
       "      <td>NA</td>\n",
       "      <td>NA</td>\n",
       "    </tr>\n",
       "    <tr>\n",
       "      <th>2</th>\n",
       "      <td>2</td>\n",
       "      <td>Macbook Pro Laptop</td>\n",
       "      <td>1</td>\n",
       "      <td>1700.00</td>\n",
       "      <td>NA</td>\n",
       "      <td>NA</td>\n",
       "    </tr>\n",
       "    <tr>\n",
       "      <th>3</th>\n",
       "      <td>3</td>\n",
       "      <td>USB-C Charging Cable</td>\n",
       "      <td>1</td>\n",
       "      <td>11.95</td>\n",
       "      <td>NA</td>\n",
       "      <td>NA</td>\n",
       "    </tr>\n",
       "    <tr>\n",
       "      <th>4</th>\n",
       "      <td>4</td>\n",
       "      <td>Video Camera Camcorder</td>\n",
       "      <td>1</td>\n",
       "      <td>70.00</td>\n",
       "      <td>NA</td>\n",
       "      <td>NA</td>\n",
       "    </tr>\n",
       "    <tr>\n",
       "      <th>...</th>\n",
       "      <td>...</td>\n",
       "      <td>...</td>\n",
       "      <td>...</td>\n",
       "      <td>...</td>\n",
       "      <td>...</td>\n",
       "      <td>...</td>\n",
       "    </tr>\n",
       "    <tr>\n",
       "      <th>995</th>\n",
       "      <td>995</td>\n",
       "      <td>Macbook Pro Laptop</td>\n",
       "      <td>1</td>\n",
       "      <td>1700.00</td>\n",
       "      <td>NA</td>\n",
       "      <td>NA</td>\n",
       "    </tr>\n",
       "    <tr>\n",
       "      <th>996</th>\n",
       "      <td>996</td>\n",
       "      <td>Apple Airpods Headphones</td>\n",
       "      <td>1</td>\n",
       "      <td>150.00</td>\n",
       "      <td>NA</td>\n",
       "      <td>NA</td>\n",
       "    </tr>\n",
       "    <tr>\n",
       "      <th>997</th>\n",
       "      <td>997</td>\n",
       "      <td>Wired Headphones</td>\n",
       "      <td>1</td>\n",
       "      <td>11.99</td>\n",
       "      <td>NA</td>\n",
       "      <td>NA</td>\n",
       "    </tr>\n",
       "    <tr>\n",
       "      <th>998</th>\n",
       "      <td>998</td>\n",
       "      <td>Travel Electronics Organizer Bag</td>\n",
       "      <td>1</td>\n",
       "      <td>19.90</td>\n",
       "      <td>NA</td>\n",
       "      <td>NA</td>\n",
       "    </tr>\n",
       "    <tr>\n",
       "      <th>999</th>\n",
       "      <td>999</td>\n",
       "      <td>USB-C Charging Cable</td>\n",
       "      <td>1</td>\n",
       "      <td>11.95</td>\n",
       "      <td>NA</td>\n",
       "      <td>NA</td>\n",
       "    </tr>\n",
       "  </tbody>\n",
       "</table>\n",
       "<p>1000 rows × 6 columns</p>\n",
       "</div>"
      ],
      "text/plain": [
       "    Order ID                           Product Quantity Ordered  Price Each  \\\n",
       "0          0                    Oculus Quest 2                1      300.00   \n",
       "1          1            Video Camera Camcorder                1       70.00   \n",
       "2          2                Macbook Pro Laptop                1     1700.00   \n",
       "3          3              USB-C Charging Cable                1       11.95   \n",
       "4          4            Video Camera Camcorder                1       70.00   \n",
       "..       ...                               ...              ...         ...   \n",
       "995      995                Macbook Pro Laptop                1     1700.00   \n",
       "996      996          Apple Airpods Headphones                1      150.00   \n",
       "997      997                  Wired Headphones                1       11.99   \n",
       "998      998  Travel Electronics Organizer Bag                1       19.90   \n",
       "999      999              USB-C Charging Cable                1       11.95   \n",
       "\n",
       "    Order Date Purchase Address  \n",
       "0           NA               NA  \n",
       "1           NA               NA  \n",
       "2           NA               NA  \n",
       "3           NA               NA  \n",
       "4           NA               NA  \n",
       "..         ...              ...  \n",
       "995         NA               NA  \n",
       "996         NA               NA  \n",
       "997         NA               NA  \n",
       "998         NA               NA  \n",
       "999         NA               NA  \n",
       "\n",
       "[1000 rows x 6 columns]"
      ]
     },
     "execution_count": 9,
     "metadata": {},
     "output_type": "execute_result"
    }
   ],
   "source": [
    "product_list = list(products.keys())\n",
    "weight_list = [products[product][1] for product in product_list]\n",
    "                    \n",
    "\n",
    "for i in range(1000):\n",
    "    product = random.choices(population=product_list, weights=weight_list)[0]\n",
    "    price = products[product][0]\n",
    "    df.loc[i] = [i, product, 1, price, 'NA', 'NA']\n",
    "df"
   ]
  },
  {
   "cell_type": "code",
   "execution_count": 11,
   "metadata": {},
   "outputs": [
    {
     "data": {
      "text/plain": [
       "Product\n",
       "Wired Headphones                    108\n",
       "USB-C Charging Cable                 98\n",
       "Lightning Charging Cable             93\n",
       "LG Dryer                             90\n",
       "Flatscreen TV                        87\n",
       "Video Camera Camcorder               79\n",
       "Apple Airpods Headphones             67\n",
       "Macbook Pro Laptop                   47\n",
       "Travel Electronics Organizer Bag     46\n",
       "ThinkPad Laptop                      46\n",
       "AA Batteries (4-pack)                43\n",
       "Oculus Quest 2                       37\n",
       "eBook Reader                         33\n",
       "Bose SoundSport Headphones           31\n",
       "AAA Batteries (4-pack)               31\n",
       "GoPro                                30\n",
       "LG Washing Machine                   24\n",
       "Stereo Gaming Headset for PS4        10\n",
       "Name: Order ID, dtype: int64"
      ]
     },
     "execution_count": 11,
     "metadata": {},
     "output_type": "execute_result"
    }
   ],
   "source": [
    "#check that some products are more popular than other\n",
    "\n",
    "df.groupby('Product').count()['Order ID'].sort_values(ascending = False)"
   ]
  },
  {
   "cell_type": "code",
   "execution_count": 12,
   "metadata": {},
   "outputs": [
    {
     "data": {
      "text/plain": [
       "['Wired Headphones',\n",
       " 'USB-C Charging Cable',\n",
       " 'Flatscreen TV',\n",
       " 'Lightning Charging Cable',\n",
       " 'LG Dryer',\n",
       " 'Apple Airpods Headphones',\n",
       " 'Video Camera Camcorder',\n",
       " 'ThinkPad Laptop',\n",
       " 'Travel Electronics Organizer Bag',\n",
       " 'Oculus Quest 2',\n",
       " 'AA Batteries (4-pack)',\n",
       " 'eBook Reader',\n",
       " 'Macbook Pro Laptop',\n",
       " 'GoPro',\n",
       " 'LG Washing Machine',\n",
       " 'Bose SoundSport Headphones',\n",
       " 'AAA Batteries (4-pack)',\n",
       " 'Stereo Gaming Headset for PS4']"
      ]
     },
     "execution_count": 12,
     "metadata": {},
     "output_type": "execute_result"
    }
   ],
   "source": [
    "[product for product in products]"
   ]
  },
  {
   "cell_type": "markdown",
   "metadata": {},
   "source": [
    "As we can see products with max weight are in the top after groupby.count"
   ]
  },
  {
   "cell_type": "markdown",
   "metadata": {},
   "source": [
    "# Generating months"
   ]
  },
  {
   "cell_type": "code",
   "execution_count": 14,
   "metadata": {},
   "outputs": [],
   "source": [
    "import calendar"
   ]
  },
  {
   "cell_type": "code",
   "execution_count": 18,
   "metadata": {},
   "outputs": [
    {
     "name": "stdout",
     "output_type": "stream",
     "text": [
      "January\n",
      "\n"
     ]
    }
   ],
   "source": [
    "#calendar.month_name - indexing from 1\n",
    "print(calendar.month_name[1])\n",
    "#return empty string\n",
    "print(calendar.month_name[0])"
   ]
  },
  {
   "cell_type": "code",
   "execution_count": 20,
   "metadata": {},
   "outputs": [],
   "source": [
    "product_list = list(products.keys())\n",
    "weight_list = [products[product][1] for product in product_list]\n",
    "\n",
    "\n",
    "for month_i in range(1,12+1):\n",
    "    #for each month lets create a dataframe\n",
    "    df_i = pd.DataFrame(columns=columns)\n",
    "                    \n",
    "    for i in range(1000):\n",
    "        product = random.choices(population=product_list, weights=weight_list)[0]\n",
    "        price = products[product][0]\n",
    "        df_i.loc[i] = [i, product, 1, price, 'NA', 'NA']\n",
    "        month_name = calendar.month_name[month_i]\n",
    "        df_i.to_csv(f'{month_name}_data.csv')\n",
    "        "
   ]
  },
  {
   "cell_type": "markdown",
   "metadata": {},
   "source": [
    "# Make some months have more purchase than others"
   ]
  },
  {
   "cell_type": "code",
   "execution_count": 25,
   "metadata": {},
   "outputs": [
    {
     "name": "stdout",
     "output_type": "stream",
     "text": [
      "1515 January\n",
      "1581 February\n",
      "1218 March\n",
      "1391 April\n",
      "1252 May\n",
      "1021 June\n",
      "1480 July\n",
      "1160 August\n",
      "1421 September\n",
      "1307 October\n",
      "1483 November\n",
      "2577 December\n"
     ]
    }
   ],
   "source": [
    "#I guess, that during holiday-season lake valentine's day, The 23 of Februrary,\n",
    "# The 8 of March, and New year(+ November)  people purchase more.\n",
    "\n",
    "holday_months = [2, 3, 11]\n",
    "new_year_month = 12\n",
    "\n",
    "product_list = list(products.keys())\n",
    "weight_list = [products[product][1] for product in product_list]\n",
    "\n",
    "for month_i in range(1,12+1):\n",
    "    #for each month lets create a dataframe\n",
    "    df_i = pd.DataFrame(columns=columns)\n",
    "    \n",
    "    if (month_i in holday_months):\n",
    "        orders_number = int(np.random.normal(loc=1500, scale = 400))\n",
    "    elif (month_i == new_year_month):\n",
    "        orders_number = int(np.random.normal(loc = 2500, scale = 300))\n",
    "    else:\n",
    "        orders_number = int(np.random.normal(loc = 1300, scale = 200))\n",
    "            \n",
    "    for i in range(orders_number):\n",
    "        product = random.choices(population=product_list, weights=weight_list)[0]\n",
    "        price = products[product][0]\n",
    "        df_i.loc[i] = [i, product, 1, price, 'NA', 'NA']\n",
    "        month_name = calendar.month_name[month_i]\n",
    "        df_i.to_csv(f'{month_name}_data.csv')\n",
    "    print(len(df_i), month_name)\n",
    "\n",
    "\n"
   ]
  },
  {
   "cell_type": "markdown",
   "metadata": {},
   "source": [
    "# Generating Random Address"
   ]
  },
  {
   "cell_type": "code",
   "execution_count": 33,
   "metadata": {},
   "outputs": [
    {
     "data": {
      "text/plain": [
       "{'Сочинский район': ['Сочи', 10],\n",
       " 'Нижегородская область': ['Нижний Новгород', 10],\n",
       " 'Московская область': ['Москва', 7],\n",
       " 'Респу́блика Башкортоста́н': ['Благовещенск', 7],\n",
       " 'Ленинградская область': ['СПБ', 5],\n",
       " 'Калинингра́дская о́бласть': ['Калининград', 5],\n",
       " 'Амурская область': ['Благовещенск', 3],\n",
       " 'Каза́нская о́бласть': ['Казань', 2],\n",
       " 'Свердловская область': ['Екатеринбург', 2]}"
      ]
     },
     "execution_count": 33,
     "metadata": {},
     "output_type": "execute_result"
    }
   ],
   "source": [
    "street_names = ['Центральная', 'Молодежная', 'Школьная', 'Лесная', 'Садовая', 'Советская', 'Новая', 'Набережная', 'Заречная', 'Зеленая']\n",
    "#Благовещенск в Амурской области и Благовещенск в Башкортостане\n",
    "cities = {'Каза́нская о́бласть':'Казань','Сочинский район':'Сочи','Нижегородская область':'Нижний Новгород', 'Московская область':'Москва', 'Ленинградская область' : 'СПБ', 'Калинингра́дская о́бласть':'Калининград','Свердловская область':'Екатеринбург', 'Амурская область':'Благовещенск', 'Респу́блика Башкортоста́н':'Благовещенск'}\n",
    "state = np.random.choice(list(cities.keys()))\n",
    "\n",
    "# As a I am too lazy to make up 'popularity points' I will generate them.\n",
    "\n",
    "for state in cities:\n",
    "    cities[state] = [cities[state], random.randint(1, 10)]\n",
    "\n",
    "#sort products according popularuty-weight    \n",
    "cities = dict(sorted(cities.items(), key=lambda item: item[1][1], reverse=True))\n",
    "\n",
    "cities\n",
    "\n"
   ]
  },
  {
   "cell_type": "code",
   "execution_count": 44,
   "metadata": {},
   "outputs": [
    {
     "data": {
      "text/plain": [
       "'Сочинский район, город Сочи, Центральная улица, дом 66, квартира 81'"
      ]
     },
     "execution_count": 44,
     "metadata": {},
     "output_type": "execute_result"
    }
   ],
   "source": [
    "def generate_random_adress():\n",
    "    weight_list = [cities[state][1] for state in cities]\n",
    "    state =  random.choices(list(cities.keys()),weight_list)\n",
    "    return f\"{state[0]}, город {cities[state[0]][0]}, {random.choice(street_names)} улица, дом {np.random.randint(100)}, квартира {np.random.randint(200)}\"\n",
    "generate_random_adress()"
   ]
  },
  {
   "cell_type": "code",
   "execution_count": 47,
   "metadata": {},
   "outputs": [
    {
     "name": "stdout",
     "output_type": "stream",
     "text": [
      "1533 January\n",
      "1315 February\n",
      "1319 March\n",
      "1361 April\n",
      "1372 May\n",
      "1533 June\n",
      "1459 July\n",
      "1203 August\n",
      "1210 September\n",
      "997 October\n",
      "1591 November\n",
      "2650 December\n"
     ]
    }
   ],
   "source": [
    "#I guess, that during holiday-season lake valentine's day, The 23 of Februrary,\n",
    "# The 8 of March, and New year(+ November)  people purchase more.\n",
    "\n",
    "holday_months = [2, 3, 11]\n",
    "new_year_month = 12\n",
    "\n",
    "product_list = list(products.keys())\n",
    "weight_list = [products[product][1] for product in product_list]\n",
    "\n",
    "for month_i in range(1,12+1):\n",
    "    #for each month lets create a dataframe\n",
    "    df_i = pd.DataFrame(columns=columns)\n",
    "    \n",
    "    if (month_i in holday_months):\n",
    "        orders_number = int(np.random.normal(loc=1500, scale = 400))\n",
    "    elif (month_i == new_year_month):\n",
    "        orders_number = int(np.random.normal(loc = 2500, scale = 300))\n",
    "    else:\n",
    "        orders_number = int(np.random.normal(loc = 1300, scale = 200))\n",
    "            \n",
    "    for i in range(orders_number):\n",
    "        product = random.choices(population=product_list, weights=weight_list)[0]\n",
    "        price = products[product][0]\n",
    "        address = generate_random_adress()\n",
    "        df_i.loc[i] = [i, product, 1, price, 'NA', address]\n",
    "        month_name = calendar.month_name[month_i]\n",
    "        df_i.to_csv(f'{month_name}_data.csv')\n",
    "    print(len(df_i), month_name)\n",
    "\n",
    "\n"
   ]
  },
  {
   "cell_type": "markdown",
   "metadata": {},
   "source": [
    "# Generate order time"
   ]
  },
  {
   "cell_type": "code",
   "execution_count": 63,
   "metadata": {},
   "outputs": [
    {
     "data": {
      "text/plain": [
       "31"
      ]
     },
     "execution_count": 63,
     "metadata": {},
     "output_type": "execute_result"
    }
   ],
   "source": [
    "calendar.monthrange(2020, 1)[1]"
   ]
  },
  {
   "cell_type": "code",
   "execution_count": 85,
   "metadata": {},
   "outputs": [],
   "source": [
    "#Format is dd.mm.yyyy H:m\n",
    "def generate_random_time(month):\n",
    "    #Returns weekday of first day of the month and number of days in month\n",
    "    day_range = calendar.monthrange(2020, month)[1]\n",
    "    random_day = random.randint(1, day_range)\n",
    "    \n",
    "    if(random.random() < 0.5):\n",
    "        date = datetime.datetime(2020, month, random_day, 11, 0)\n",
    "    else:\n",
    "        date = datetime.datetime(2020, month, random_day, 20, 0)\n",
    "\n",
    "    time_offset = int(np.random.normal(loc= 0, scale = 180))\n",
    "    final_date = date + datetime.timedelta(minutes = time_offset)\n",
    "    return final_date.strftime(\"%d.%m.%Y %H:%M\")\n"
   ]
  },
  {
   "cell_type": "code",
   "execution_count": 86,
   "metadata": {},
   "outputs": [
    {
     "data": {
      "text/plain": [
       "'13.01.2020 18:25'"
      ]
     },
     "execution_count": 86,
     "metadata": {},
     "output_type": "execute_result"
    }
   ],
   "source": [
    "generate_random_time(1)"
   ]
  },
  {
   "cell_type": "code",
   "execution_count": 87,
   "metadata": {},
   "outputs": [
    {
     "name": "stdout",
     "output_type": "stream",
     "text": [
      "1298 January\n",
      "679 February\n",
      "969 March\n",
      "1415 April\n",
      "896 May\n",
      "1565 June\n",
      "1275 July\n",
      "1130 August\n",
      "1484 September\n",
      "1545 October\n",
      "1155 November\n",
      "2508 December\n"
     ]
    }
   ],
   "source": [
    "#I guess, that during holiday-season lake valentine's day, The 23 of Februrary,\n",
    "# The 8 of March, and New year(+ November)  people purchase more.\n",
    "\n",
    "holday_months = [2, 3, 11]\n",
    "new_year_month = 12\n",
    "\n",
    "product_list = list(products.keys())\n",
    "weight_list = [products[product][1] for product in product_list]\n",
    "\n",
    "for month_i in range(1,12+1):\n",
    "    #for each month lets create a dataframe\n",
    "    df_i = pd.DataFrame(columns=columns)\n",
    "    \n",
    "    if (month_i in holday_months):\n",
    "        orders_number = int(np.random.normal(loc=1500, scale = 400))\n",
    "    elif (month_i == new_year_month):\n",
    "        orders_number = int(np.random.normal(loc = 2500, scale = 300))\n",
    "    else:\n",
    "        orders_number = int(np.random.normal(loc = 1300, scale = 200))\n",
    "            \n",
    "    for i in range(orders_number):\n",
    "        product = random.choices(population=product_list, weights=weight_list)[0]\n",
    "        price = products[product][0]\n",
    "        address = generate_random_adress()\n",
    "        order_time = generate_random_time(month_i)\n",
    "        df_i.loc[i] = [i, product, 1, price, order_time, address]\n",
    "        month_name = calendar.month_name[month_i]\n",
    "        df_i.to_csv(f'{month_name}_data.csv')\n",
    "    print(len(df_i), month_name)\n",
    "\n",
    "\n"
   ]
  },
  {
   "cell_type": "markdown",
   "metadata": {},
   "source": [
    "# Quantity using geometric distribution"
   ]
  },
  {
   "cell_type": "markdown",
   "metadata": {},
   "source": [
    "Logic^\n",
    "\n",
    "quantity_ordered = np.random.geometric(p = 1.0 - (1.0/price))\n",
    "\n",
    "If the price of product is high, it is unlickly that somebody will buy many products of this type."
   ]
  },
  {
   "cell_type": "code",
   "execution_count": 89,
   "metadata": {},
   "outputs": [
    {
     "name": "stdout",
     "output_type": "stream",
     "text": [
      "1314 January\n",
      "1828 February\n",
      "1293 March\n",
      "1511 April\n",
      "1396 May\n",
      "1434 June\n",
      "1235 July\n",
      "1162 August\n",
      "1323 September\n",
      "1374 October\n",
      "1951 November\n",
      "2254 December\n"
     ]
    }
   ],
   "source": [
    "#I guess, that during holiday-season lake valentine's day, The 23 of Februrary,\n",
    "# The 8 of March, and New year(+ November)  people purchase more.\n",
    "\n",
    "holday_months = [2, 3, 11]\n",
    "new_year_month = 12\n",
    "\n",
    "product_list = list(products.keys())\n",
    "weight_list = [products[product][1] for product in product_list]\n",
    "\n",
    "for month_i in range(1,12+1):\n",
    "    #for each month lets create a dataframe\n",
    "    df_i = pd.DataFrame(columns=columns)\n",
    "    \n",
    "    if (month_i in holday_months):\n",
    "        orders_number = int(np.random.normal(loc=1500, scale = 400))\n",
    "    elif (month_i == new_year_month):\n",
    "        orders_number = int(np.random.normal(loc = 2500, scale = 300))\n",
    "    else:\n",
    "        orders_number = int(np.random.normal(loc = 1300, scale = 200))\n",
    "            \n",
    "    for i in range(orders_number):\n",
    "        product = random.choices(population=product_list, weights=weight_list)[0]\n",
    "        price = products[product][0]\n",
    "        address = generate_random_adress()\n",
    "        order_time = generate_random_time(month_i)\n",
    "        quantity_ordered = np.random.geometric(p = 1.0 - (1.0/price))\n",
    "        df_i.loc[i] = [i, product, quantity_ordered, price, order_time, address]\n",
    "        month_name = calendar.month_name[month_i]\n",
    "        df_i.to_csv(f'{month_name}_data.csv')\n",
    "    print(len(df_i), month_name)\n",
    "\n",
    "\n"
   ]
  },
  {
   "cell_type": "code",
   "execution_count": null,
   "metadata": {},
   "outputs": [],
   "source": []
  }
 ],
 "metadata": {
  "kernelspec": {
   "display_name": "Python 3",
   "language": "python",
   "name": "python3"
  },
  "language_info": {
   "codemirror_mode": {
    "name": "ipython",
    "version": 3
   },
   "file_extension": ".py",
   "mimetype": "text/x-python",
   "name": "python",
   "nbconvert_exporter": "python",
   "pygments_lexer": "ipython3",
   "version": "3.8.5"
  }
 },
 "nbformat": 4,
 "nbformat_minor": 4
}
