{
  "cells":[
    {
      "cell_type":"code",
      "source":[
        "import pandas as pd\n",
        "import json"
      ],
      "execution_count":0,
      "outputs":[
        
      ],
      "metadata":{
        
      }
    },
    {
      "cell_type":"markdown",
      "source":[
        "## Load Data"
      ],
      "metadata":{
        
      }
    },
    {
      "cell_type":"code",
      "source":[
        "#the way I prefer\n",
        "\n",
        "url_books = 'https:\/\/raw.githubusercontent.com\/KeithGalli\/sklearn\/master\/data\/category\/Books_small.json'\n",
        "df_books = pd.read_json(url_books, lines=True)[['reviewText', 'overall']]\n",
        "df_books"
      ],
      "execution_count":0,
      "outputs":[
        {
          "data":{
            "text\/html":[
              "<div>\n",
              "<style scoped>\n",
              "    .dataframe tbody tr th:only-of-type {\n",
              "        vertical-align: middle;\n",
              "    }\n",
              "\n",
              "    .dataframe tbody tr th {\n",
              "        vertical-align: top;\n",
              "    }\n",
              "\n",
              "    .dataframe thead th {\n",
              "        text-align: right;\n",
              "    }\n",
              "<\/style>\n",
              "<table border=\"1\" class=\"dataframe\">\n",
              "  <thead>\n",
              "    <tr style=\"text-align: right;\">\n",
              "      <th><\/th>\n",
              "      <th>reviewText<\/th>\n",
              "      <th>overall<\/th>\n",
              "    <\/tr>\n",
              "  <\/thead>\n",
              "  <tbody>\n",
              "    <tr>\n",
              "      <th>0<\/th>\n",
              "      <td>Da Silva takes the divine by storm with this u...<\/td>\n",
              "      <td>4<\/td>\n",
              "    <\/tr>\n",
              "    <tr>\n",
              "      <th>1<\/th>\n",
              "      <td>For me personally it's the most disappointing ...<\/td>\n",
              "      <td>2<\/td>\n",
              "    <\/tr>\n",
              "    <tr>\n",
              "      <th>2<\/th>\n",
              "      <td>Very simple book, but leaves you feeling good....<\/td>\n",
              "      <td>4<\/td>\n",
              "    <\/tr>\n",
              "    <tr>\n",
              "      <th>3<\/th>\n",
              "      <td>I read a library copy of this exceptionally we...<\/td>\n",
              "      <td>5<\/td>\n",
              "    <\/tr>\n",
              "    <tr>\n",
              "      <th>4<\/th>\n",
              "      <td>With the government knowing this could happen ...<\/td>\n",
              "      <td>5<\/td>\n",
              "    <\/tr>\n",
              "    <tr>\n",
              "      <th>...<\/th>\n",
              "      <td>...<\/td>\n",
              "      <td>...<\/td>\n",
              "    <\/tr>\n",
              "    <tr>\n",
              "      <th>995<\/th>\n",
              "      <td>I thoroughly enjoyed this book. I've read the ...<\/td>\n",
              "      <td>5<\/td>\n",
              "    <\/tr>\n",
              "    <tr>\n",
              "      <th>996<\/th>\n",
              "      <td>I was impressed with not only the characters o...<\/td>\n",
              "      <td>5<\/td>\n",
              "    <\/tr>\n",
              "    <tr>\n",
              "      <th>997<\/th>\n",
              "      <td>I like the characters.  I had read the short s...<\/td>\n",
              "      <td>5<\/td>\n",
              "    <\/tr>\n",
              "    <tr>\n",
              "      <th>998<\/th>\n",
              "      <td>She got way she wanted,but can she pick the ri...<\/td>\n",
              "      <td>5<\/td>\n",
              "    <\/tr>\n",
              "    <tr>\n",
              "      <th>999<\/th>\n",
              "      <td>All these twists, turns and discoveries. There...<\/td>\n",
              "      <td>5<\/td>\n",
              "    <\/tr>\n",
              "  <\/tbody>\n",
              "<\/table>\n",
              "<p>1000 rows × 2 columns<\/p>\n",
              "<\/div>"
            ]
          },
          "metadata":{
            
          },
          "output_type":"display_data"
        }
      ],
      "metadata":{
        
      }
    },
    {
      "cell_type":"code",
      "source":[
        "#The way from tutorial\n",
        "import random\n",
        "\n",
        "class Sentiment:\n",
        "    NEGATIVE = 'NEGATIVE'\n",
        "    NEUTRAL = 'NEUTRAL'\n",
        "    POSITIVE = 'POSITIVE'\n",
        "\n",
        "\n",
        "class Review:\n",
        "    def __init__(self, text, score):\n",
        "        self.text = text\n",
        "        self.score = score\n",
        "        self.sentiment = self.get_sentiment()\n",
        "\n",
        "\n",
        "    def get_sentiment(self):\n",
        "        if self.score <= 2:\n",
        "            return Sentiment.NEGATIVE\n",
        "        elif self.score == 3:\n",
        "            return Sentiment.NEUTRAL\n",
        "        else: \n",
        "            return Sentiment.POSITIVE\n",
        "\n",
        "\n",
        "class ReviewContainer:\n",
        "    def __init__(self, reviews):\n",
        "        self.reviews = reviews\n",
        "        \n",
        "    def get_text(self):\n",
        "        return [x.text for x in self.reviews]\n",
        "    \n",
        "    def get_sentiment(self):\n",
        "        return [x.sentiment for x in self.reviews]\n",
        "        \n",
        "    def evenly_distribute(self):\n",
        "        negative = list(filter(lambda x: x.sentiment == Sentiment.NEGATIVE, self.reviews))\n",
        "        positive = list(filter(lambda x: x.sentiment == Sentiment.POSITIVE, self.reviews))\n",
        "\n",
        "        print(\"negative \",  len(negative))\n",
        "        print(\"positive \", len(positive))\n",
        "\n",
        "        positive_shrunk = positive[:len(negative)]\n",
        "        self.reviews = negative + positive_shrunk\n",
        "        random.shuffle(self.reviews)\n",
        "\n",
        "    def get_text(self):\n",
        "        return [x.text for x in self.reviews]\n",
        "\n",
        "    def get_sentiment(self):\n",
        "        return [x.sentiment for x in self.reviews]\n"
      ],
      "execution_count":0,
      "outputs":[
        
      ],
      "metadata":{
        
      }
    },
    {
      "cell_type":"code",
      "source":[
        "def get_sentiment(score):\n",
        "       if score <= 2:\n",
        "           return Sentiment.NEGATIVE\n",
        "       elif score == 3:\n",
        "           return Sentiment.NEUTRAL\n",
        "       else: \n",
        "           return Sentiment.POSITIVE\n",
        "\n",
        "df_books['Sentiment'] = df_books.overall.apply(get_sentiment)\n",
        "df_books"
      ],
      "execution_count":0,
      "outputs":[
        {
          "data":{
            "text\/html":[
              "<div>\n",
              "<style scoped>\n",
              "    .dataframe tbody tr th:only-of-type {\n",
              "        vertical-align: middle;\n",
              "    }\n",
              "\n",
              "    .dataframe tbody tr th {\n",
              "        vertical-align: top;\n",
              "    }\n",
              "\n",
              "    .dataframe thead th {\n",
              "        text-align: right;\n",
              "    }\n",
              "<\/style>\n",
              "<table border=\"1\" class=\"dataframe\">\n",
              "  <thead>\n",
              "    <tr style=\"text-align: right;\">\n",
              "      <th><\/th>\n",
              "      <th>reviewText<\/th>\n",
              "      <th>overall<\/th>\n",
              "      <th>Sentiment<\/th>\n",
              "    <\/tr>\n",
              "  <\/thead>\n",
              "  <tbody>\n",
              "    <tr>\n",
              "      <th>0<\/th>\n",
              "      <td>Da Silva takes the divine by storm with this u...<\/td>\n",
              "      <td>4<\/td>\n",
              "      <td>POSITIVE<\/td>\n",
              "    <\/tr>\n",
              "    <tr>\n",
              "      <th>1<\/th>\n",
              "      <td>For me personally it's the most disappointing ...<\/td>\n",
              "      <td>2<\/td>\n",
              "      <td>NEGATIVE<\/td>\n",
              "    <\/tr>\n",
              "    <tr>\n",
              "      <th>2<\/th>\n",
              "      <td>Very simple book, but leaves you feeling good....<\/td>\n",
              "      <td>4<\/td>\n",
              "      <td>POSITIVE<\/td>\n",
              "    <\/tr>\n",
              "    <tr>\n",
              "      <th>3<\/th>\n",
              "      <td>I read a library copy of this exceptionally we...<\/td>\n",
              "      <td>5<\/td>\n",
              "      <td>POSITIVE<\/td>\n",
              "    <\/tr>\n",
              "    <tr>\n",
              "      <th>4<\/th>\n",
              "      <td>With the government knowing this could happen ...<\/td>\n",
              "      <td>5<\/td>\n",
              "      <td>POSITIVE<\/td>\n",
              "    <\/tr>\n",
              "    <tr>\n",
              "      <th>...<\/th>\n",
              "      <td>...<\/td>\n",
              "      <td>...<\/td>\n",
              "      <td>...<\/td>\n",
              "    <\/tr>\n",
              "    <tr>\n",
              "      <th>995<\/th>\n",
              "      <td>I thoroughly enjoyed this book. I've read the ...<\/td>\n",
              "      <td>5<\/td>\n",
              "      <td>POSITIVE<\/td>\n",
              "    <\/tr>\n",
              "    <tr>\n",
              "      <th>996<\/th>\n",
              "      <td>I was impressed with not only the characters o...<\/td>\n",
              "      <td>5<\/td>\n",
              "      <td>POSITIVE<\/td>\n",
              "    <\/tr>\n",
              "    <tr>\n",
              "      <th>997<\/th>\n",
              "      <td>I like the characters.  I had read the short s...<\/td>\n",
              "      <td>5<\/td>\n",
              "      <td>POSITIVE<\/td>\n",
              "    <\/tr>\n",
              "    <tr>\n",
              "      <th>998<\/th>\n",
              "      <td>She got way she wanted,but can she pick the ri...<\/td>\n",
              "      <td>5<\/td>\n",
              "      <td>POSITIVE<\/td>\n",
              "    <\/tr>\n",
              "    <tr>\n",
              "      <th>999<\/th>\n",
              "      <td>All these twists, turns and discoveries. There...<\/td>\n",
              "      <td>5<\/td>\n",
              "      <td>POSITIVE<\/td>\n",
              "    <\/tr>\n",
              "  <\/tbody>\n",
              "<\/table>\n",
              "<p>1000 rows × 3 columns<\/p>\n",
              "<\/div>"
            ]
          },
          "metadata":{
            
          },
          "output_type":"display_data"
        }
      ],
      "metadata":{
        
      }
    },
    {
      "cell_type":"code",
      "source":[
        "#file = 'Books_small.json'\n",
        "file = 'Books_small_10000.json'\n",
        "\n",
        "\n",
        "reviews = []\n",
        "\n",
        "with open(file) as f:\n",
        "    for record in f:\n",
        "        review = json.loads(record)\n",
        "        reviews.append(Review(review['reviewText'], review['overall']))"
      ],
      "execution_count":0,
      "outputs":[
        
      ],
      "metadata":{
        
      }
    },
    {
      "cell_type":"code",
      "source":[
        "reviews[5].sentiment"
      ],
      "execution_count":0,
      "outputs":[
        {
          "data":{
            "text\/plain":[
              "'POSITIVE'"
            ]
          },
          "metadata":{
            
          },
          "output_type":"display_data"
        }
      ],
      "metadata":{
        
      }
    },
    {
      "cell_type":"markdown",
      "source":[
        "## Prep data"
      ],
      "metadata":{
        
      }
    },
    {
      "cell_type":"code",
      "source":[
        " #import numpy as np\n",
        "from sklearn.model_selection import train_test_split"
      ],
      "execution_count":0,
      "outputs":[
        
      ],
      "metadata":{
        
      }
    },
    {
      "cell_type":"code",
      "source":[
        "train, test = train_test_split(reviews, test_size=0.33, random_state=42)\n",
        "\n",
        "train_container = ReviewContainer(train)\n",
        "test_container = ReviewContainer(test)"
      ],
      "execution_count":0,
      "outputs":[
        
      ],
      "metadata":{
        
      }
    },
    {
      "cell_type":"code",
      "source":[
        "# train_x = [x.text for x in train]\n",
        "# train_y = [x.sentiment for x in train ]\n",
        "\n",
        "# test_x = [x.text for x in test]\n",
        "# test_y = [x.sentiment for x in test]\n",
        "\n",
        "train_container.evenly_distribute()\n",
        "test_container.evenly_distribute()\n",
        "\n",
        "train_x = train_container.get_text()\n",
        "train_y = train_container.get_sentiment()\n",
        "\n",
        "test_x = test_container.get_text()\n",
        "test_y = test_container.get_sentiment()\n",
        "\n",
        "\n",
        "print(train_y.count(Sentiment.POSITIVE))\n",
        "print(train_y.count(Sentiment.NEGATIVE))"
      ],
      "execution_count":0,
      "outputs":[
        {
          "name":"stdout",
          "text":[
            "negative  436\n",
            "positive  5611\n",
            "negative  208\n",
            "positive  2767\n",
            "436\n",
            "436\n"
          ],
          "output_type":"stream"
        }
      ],
      "metadata":{
        
      }
    },
    {
      "cell_type":"markdown",
      "source":[
        "## Bag of words"
      ],
      "metadata":{
        
      }
    },
    {
      "cell_type":"code",
      "source":[
        "from sklearn.feature_extraction.text import CountVectorizer, TfidfVectorizer"
      ],
      "execution_count":0,
      "outputs":[
        
      ],
      "metadata":{
        
      }
    },
    {
      "cell_type":"code",
      "source":[
        "#vectorizer = CountVectorizer()\n",
        "\n",
        "vectorizer = TfidfVectorizer()\n",
        "train_x_vectors = vectorizer.fit_transform(train_x)\n",
        "test_x_vectors = vectorizer.transform(test_x)"
      ],
      "execution_count":0,
      "outputs":[
        
      ],
      "metadata":{
        
      }
    },
    {
      "cell_type":"code",
      "source":[
        "#print(vectorizer.get_feature_names())\n",
        "#print(train_x_vectors.shape)\n",
        "print(train_x_vectors[1])\n",
        "print(train_x[1])"
      ],
      "execution_count":0,
      "outputs":[
        {
          "name":"stdout",
          "text":[
            "  (0, 8826)\t0.35232758843467893\n",
            "  (0, 6394)\t0.23798774394466\n",
            "  (0, 3625)\t0.29330147444557725\n",
            "  (0, 8797)\t0.24864994293082324\n",
            "  (0, 392)\t0.2583657337513091\n",
            "  (0, 8408)\t0.1725247986812799\n",
            "  (0, 4439)\t0.23479278125501726\n",
            "  (0, 991)\t0.1893024668390034\n",
            "  (0, 5361)\t0.22884222655230535\n",
            "  (0, 2828)\t0.32205063939427275\n",
            "  (0, 8497)\t0.47804063970394606\n",
            "  (0, 387)\t0.21150535007934668\n",
            "  (0, 7929)\t0.15402035435218872\n",
            "  (0, 7976)\t0.08635978706150498\n",
            "  (0, 3177)\t0.11124633018543452\n",
            "  (0, 4264)\t0.1048572784626126\n",
            "I am very excited for the next book! Keep up the amazing work:) very very happy reader......THIS IS A WOW BOOK\n"
          ],
          "output_type":"stream"
        }
      ],
      "metadata":{
        
      }
    },
    {
      "cell_type":"code",
      "source":[
        "#How to get index of word\n",
        "vectorizer.vocabulary_.get('awful')"
      ],
      "execution_count":0,
      "outputs":[
        {
          "data":{
            "text\/plain":[
              "687"
            ]
          },
          "metadata":{
            
          },
          "output_type":"display_data"
        }
      ],
      "metadata":{
        
      }
    },
    {
      "cell_type":"markdown",
      "source":[
        "## Classification"
      ],
      "metadata":{
        
      }
    },
    {
      "cell_type":"markdown",
      "source":[
        "#### Linear SVM"
      ],
      "metadata":{
        
      }
    },
    {
      "cell_type":"code",
      "source":[
        "#support vector classifier\n",
        "from sklearn import svm\n",
        "\n",
        "\n",
        "clf_svm = svm.SVC(kernel = 'linear')\n",
        "clf_svm.fit(train_x_vectors, train_y)\n",
        "\n",
        "print(test_x[0])\n",
        "clf_svm.predict(test_x_vectors[0])"
      ],
      "execution_count":0,
      "outputs":[
        {
          "name":"stdout",
          "text":[
            "This book is published by Amazon - so I was surprised at the clunky writing. The manuscript cried out for an editor who could have removed some of the cliches and the profusion of needless adjectives and adverbs. Of course, no editor could have breathed much life into the wooden characters and stilted dialogue - but that's another issue.The quality of the writing shows itself early when we learn that one character has &#34;dread etched on his face,&#34; and another &#34;burned with curiosity&#34; while a third has a mouth &#34;frozen in a crooked half smile&#34; and for a fourth, &#34;anger coursed through his body.&#34; A young girl writes in her diary that &#34;Virginie respects that which is haram or forbidden.&#34; Kind of the diarist to explain.I have to admit I did not get through this long slog set in Egypt in 1919 and 1940. The world is too full of good books to waste time on mediocre ones.\n"
          ],
          "output_type":"stream"
        },
        {
          "data":{
            "text\/plain":[
              "array(['NEGATIVE'], dtype='<U8')"
            ]
          },
          "metadata":{
            
          },
          "output_type":"display_data"
        }
      ],
      "metadata":{
        
      }
    },
    {
      "cell_type":"markdown",
      "source":[
        "#### DecisionTree"
      ],
      "metadata":{
        
      }
    },
    {
      "cell_type":"code",
      "source":[
        "from sklearn.tree import DecisionTreeClassifier\n",
        "\n",
        "clf_dec = DecisionTreeClassifier()\n",
        "clf_dec.fit(train_x_vectors, train_y)\n",
        "\n",
        "print(test_x[0])\n",
        "clf_dec.predict(test_x_vectors[0])"
      ],
      "execution_count":0,
      "outputs":[
        {
          "name":"stdout",
          "text":[
            "This book is published by Amazon - so I was surprised at the clunky writing. The manuscript cried out for an editor who could have removed some of the cliches and the profusion of needless adjectives and adverbs. Of course, no editor could have breathed much life into the wooden characters and stilted dialogue - but that's another issue.The quality of the writing shows itself early when we learn that one character has &#34;dread etched on his face,&#34; and another &#34;burned with curiosity&#34; while a third has a mouth &#34;frozen in a crooked half smile&#34; and for a fourth, &#34;anger coursed through his body.&#34; A young girl writes in her diary that &#34;Virginie respects that which is haram or forbidden.&#34; Kind of the diarist to explain.I have to admit I did not get through this long slog set in Egypt in 1919 and 1940. The world is too full of good books to waste time on mediocre ones.\n"
          ],
          "output_type":"stream"
        },
        {
          "data":{
            "text\/plain":[
              "array(['NEGATIVE'], dtype='<U8')"
            ]
          },
          "metadata":{
            
          },
          "output_type":"display_data"
        }
      ],
      "metadata":{
        
      }
    },
    {
      "cell_type":"markdown",
      "source":[
        "#### Logistic Regression"
      ],
      "metadata":{
        
      }
    },
    {
      "cell_type":"code",
      "source":[
        "from sklearn.linear_model import LogisticRegression\n",
        "\n",
        "clf_log = LogisticRegression()\n",
        "\n",
        "clf_log.fit(train_x_vectors, train_y)\n",
        "\n",
        "print(test_x[0])\n",
        "clf_log.predict(test_x_vectors[0])"
      ],
      "execution_count":0,
      "outputs":[
        {
          "name":"stdout",
          "text":[
            "This book is published by Amazon - so I was surprised at the clunky writing. The manuscript cried out for an editor who could have removed some of the cliches and the profusion of needless adjectives and adverbs. Of course, no editor could have breathed much life into the wooden characters and stilted dialogue - but that's another issue.The quality of the writing shows itself early when we learn that one character has &#34;dread etched on his face,&#34; and another &#34;burned with curiosity&#34; while a third has a mouth &#34;frozen in a crooked half smile&#34; and for a fourth, &#34;anger coursed through his body.&#34; A young girl writes in her diary that &#34;Virginie respects that which is haram or forbidden.&#34; Kind of the diarist to explain.I have to admit I did not get through this long slog set in Egypt in 1919 and 1940. The world is too full of good books to waste time on mediocre ones.\n"
          ],
          "output_type":"stream"
        },
        {
          "data":{
            "text\/plain":[
              "array(['NEGATIVE'], dtype='<U8')"
            ]
          },
          "metadata":{
            
          },
          "output_type":"display_data"
        }
      ],
      "metadata":{
        
      }
    },
    {
      "cell_type":"markdown",
      "source":[
        "## Evaluation\n",
        "\n",
        "check how well we predict results"
      ],
      "metadata":{
        
      }
    },
    {
      "cell_type":"code",
      "source":[
        "#Mean Accuracy"
      ],
      "execution_count":0,
      "outputs":[
        
      ],
      "metadata":{
        
      }
    },
    {
      "cell_type":"code",
      "source":[
        "clf_svm.score(test_x_vectors, test_y)"
      ],
      "execution_count":0,
      "outputs":[
        {
          "data":{
            "text\/plain":[
              "0.8076923076923077"
            ]
          },
          "metadata":{
            
          },
          "output_type":"display_data"
        }
      ],
      "metadata":{
        
      }
    },
    {
      "cell_type":"code",
      "source":[
        "clf_dec.score(test_x_vectors, test_y)"
      ],
      "execution_count":0,
      "outputs":[
        {
          "data":{
            "text\/plain":[
              "0.6129807692307693"
            ]
          },
          "metadata":{
            
          },
          "output_type":"display_data"
        }
      ],
      "metadata":{
        
      }
    },
    {
      "cell_type":"code",
      "source":[
        "clf_log.score(test_x_vectors, test_y)"
      ],
      "execution_count":0,
      "outputs":[
        {
          "data":{
            "text\/plain":[
              "0.8052884615384616"
            ]
          },
          "metadata":{
            
          },
          "output_type":"display_data"
        }
      ],
      "metadata":{
        
      }
    },
    {
      "cell_type":"code",
      "source":[
        "#F1 scores\n",
        "\n",
        "from sklearn.metrics  import f1_score\n",
        "\n",
        "f1_score(test_y, clf_svm.predict(test_x_vectors), average = None, labels = [Sentiment.NEGATIVE, Sentiment.NEUTRAL, Sentiment.POSITIVE])"
      ],
      "execution_count":0,
      "outputs":[
        {
          "name":"stderr",
          "text":[
            "\/opt\/anaconda3\/envs\/datalore-user\/lib\/python3.7\/site-packages\/sklearn\/metrics\/_classification.py:1465: UndefinedMetricWarning: F-score is ill-defined and being set to 0.0 in labels with no true nor predicted samples. Use `zero_division` parameter to control this behavior.\n",
            "  average, \"true nor predicted\", 'F-score is', len(true_sum)\n"
          ],
          "output_type":"stream"
        },
        {
          "data":{
            "text\/plain":[
              "array([0.80952381, 0.        , 0.80582524])"
            ]
          },
          "metadata":{
            
          },
          "output_type":"display_data"
        }
      ],
      "metadata":{
        
      }
    },
    {
      "cell_type":"code",
      "source":[
        "# Very good positive, but negative and neutral are bad results"
      ],
      "execution_count":0,
      "outputs":[
        
      ],
      "metadata":{
        
      }
    },
    {
      "cell_type":"code",
      "source":[
        "f1_score(test_y, clf_dec.predict(test_x_vectors), average = None, labels = [Sentiment.NEGATIVE, Sentiment.NEUTRAL, Sentiment.POSITIVE])"
      ],
      "execution_count":0,
      "outputs":[
        {
          "data":{
            "text\/plain":[
              "array([0.61575179, 0.        , 0.61016949])"
            ]
          },
          "metadata":{
            
          },
          "output_type":"display_data"
        }
      ],
      "metadata":{
        
      }
    },
    {
      "cell_type":"code",
      "source":[
        "# good positive, but negative and neutral are VERY bad results"
      ],
      "execution_count":0,
      "outputs":[
        
      ],
      "metadata":{
        
      }
    },
    {
      "cell_type":"code",
      "source":[
        "f1_score(test_y, clf_log.predict(test_x_vectors), average = None, labels = [Sentiment.NEGATIVE, Sentiment.NEUTRAL, Sentiment.POSITIVE])"
      ],
      "execution_count":0,
      "outputs":[
        {
          "data":{
            "text\/plain":[
              "array([0.80760095, 0.        , 0.80291971])"
            ]
          },
          "metadata":{
            
          },
          "output_type":"display_data"
        }
      ],
      "metadata":{
        
      }
    },
    {
      "cell_type":"code",
      "source":[
        "# VERY good positive, but negative and neutral are VERY bad results"
      ],
      "execution_count":0,
      "outputs":[
        
      ],
      "metadata":{
        
      }
    },
    {
      "cell_type":"markdown",
      "source":[
        "## Improving our model"
      ],
      "metadata":{
        
      }
    },
    {
      "cell_type":"code",
      "source":[
        "print(train_y.count(Sentiment.POSITIVE))\n",
        "print(train_y.count(Sentiment.NEUTRAL))\n",
        "print(train_y.count(Sentiment.NEGATIVE))"
      ],
      "execution_count":0,
      "outputs":[
        {
          "name":"stdout",
          "text":[
            "436\n",
            "0\n",
            "436\n"
          ],
          "output_type":"stream"
        }
      ],
      "metadata":{
        
      }
    },
    {
      "cell_type":"markdown",
      "source":[
        "There are much more examples of Positive reviews rather than negative, that is why our model is good for positive test-reviews, bad bad at neutral and negative. We need more examples of negative and neutral reviews"
      ],
      "metadata":{
        
      }
    },
    {
      "cell_type":"code",
      "source":[
        "cont = ReviewContainer(train)\n",
        "cont.evenly_distribute()"
      ],
      "execution_count":0,
      "outputs":[
        {
          "name":"stdout",
          "text":[
            "negative  436\n",
            "positive  5611\n"
          ],
          "output_type":"stream"
        }
      ],
      "metadata":{
        
      }
    },
    {
      "cell_type":"code",
      "source":[
        "len(cont.reviews)"
      ],
      "execution_count":0,
      "outputs":[
        {
          "data":{
            "text\/plain":[
              "872"
            ]
          },
          "metadata":{
            
          },
          "output_type":"display_data"
        }
      ],
      "metadata":{
        
      }
    },
    {
      "cell_type":"markdown",
      "source":[
        "## Test time!"
      ],
      "metadata":{
        
      }
    },
    {
      "cell_type":"code",
      "source":[
        "test_set = ['I dont like this book. Too silly', 'well, i do not think this book is bad. It is great, recommend ', 'horrible waste of time']\n",
        "\n",
        "test_set_vectors = vectorizer.transform(test_set)\n",
        "\n",
        "clf_svm.predict(test_set_vectors)"
      ],
      "execution_count":0,
      "outputs":[
        {
          "data":{
            "text\/plain":[
              "array(['NEGATIVE', 'POSITIVE', 'NEGATIVE'], dtype='<U8')"
            ]
          },
          "metadata":{
            
          },
          "output_type":"display_data"
        }
      ],
      "metadata":{
        
      }
    },
    {
      "cell_type":"markdown",
      "source":[
        "## Grid Search"
      ],
      "metadata":{
        
      }
    },
    {
      "cell_type":"code",
      "source":[
        "from  sklearn.model_selection import GridSearchCV\n",
        "\n",
        "parameters = {'kernel':('linear', 'rbf'), 'C':[1, 2, 4, 8, 16]}\n",
        "svc = svm.SVC()\n",
        "\n",
        "#cv = cross-validation\n",
        "clf = GridSearchCV(svc, parameters)\n",
        "\n",
        "clf.fit(train_x_vectors, train_y)"
      ],
      "execution_count":0,
      "outputs":[
        {
          "data":{
            "text\/plain":[
              "GridSearchCV(estimator=SVC(),\n",
              "             param_grid={'C': [1, 2, 4, 8, 16], 'kernel': ('linear', 'rbf')})"
            ]
          },
          "metadata":{
            
          },
          "output_type":"display_data"
        }
      ],
      "metadata":{
        
      }
    },
    {
      "cell_type":"code",
      "source":[
        "clf.best_params_"
      ],
      "execution_count":0,
      "outputs":[
        {
          "data":{
            "text\/plain":[
              "{'C': 2, 'kernel': 'rbf'}"
            ]
          },
          "metadata":{
            
          },
          "output_type":"display_data"
        }
      ],
      "metadata":{
        
      }
    },
    {
      "cell_type":"code",
      "source":[
        "print(\"Best parameters set found on development set:\")\n",
        "print()\n",
        "print(clf.best_params_)\n",
        "print()\n",
        "print(\"Grid scores on development set:\")\n",
        "print()\n",
        "means = clf.cv_results_['mean_test_score']\n",
        "stds = clf.cv_results_['std_test_score']\n",
        "for mean, std, params in zip(means, stds, clf.cv_results_['params']):\n",
        "    print(\"%0.3f (+\/-%0.03f) for %r\"\n",
        "              % (mean, std * 2, params))\n",
        "print()"
      ],
      "execution_count":0,
      "outputs":[
        {
          "name":"stdout",
          "text":[
            "Best parameters set found on development set:\n",
            "\n",
            "{'C': 2, 'kernel': 'rbf'}\n",
            "\n",
            "Grid scores on development set:\n",
            "\n",
            "0.827 (+\/-0.047) for {'C': 1, 'kernel': 'linear'}\n",
            "0.829 (+\/-0.035) for {'C': 1, 'kernel': 'rbf'}\n",
            "0.820 (+\/-0.029) for {'C': 2, 'kernel': 'linear'}\n",
            "0.830 (+\/-0.031) for {'C': 2, 'kernel': 'rbf'}\n",
            "0.825 (+\/-0.047) for {'C': 4, 'kernel': 'linear'}\n",
            "0.830 (+\/-0.031) for {'C': 4, 'kernel': 'rbf'}\n",
            "0.825 (+\/-0.047) for {'C': 8, 'kernel': 'linear'}\n",
            "0.830 (+\/-0.031) for {'C': 8, 'kernel': 'rbf'}\n",
            "0.825 (+\/-0.047) for {'C': 16, 'kernel': 'linear'}\n",
            "0.830 (+\/-0.031) for {'C': 16, 'kernel': 'rbf'}\n",
            "\n"
          ],
          "output_type":"stream"
        }
      ],
      "metadata":{
        
      }
    },
    {
      "cell_type":"markdown",
      "source":[
        "## Saving Model"
      ],
      "metadata":{
        
      }
    },
    {
      "cell_type":"code",
      "source":[
        "import pickle \n",
        "\n",
        "with open('sentiment_clf.pkl', 'wb') as f:\n",
        "    pickle.dump(clf, f)"
      ],
      "execution_count":0,
      "outputs":[
        
      ],
      "metadata":{
        
      }
    },
    {
      "cell_type":"markdown",
      "source":[
        "## Loading Model"
      ],
      "metadata":{
        
      }
    },
    {
      "cell_type":"code",
      "source":[
        "with open('sentiment_clf.pkl', 'rb') as f:\n",
        "    loaded_clf = pickle.load(f)\n",
        "\n",
        "loaded_clf.predict(test_x_vectors[:2])    "
      ],
      "execution_count":0,
      "outputs":[
        {
          "data":{
            "text\/plain":[
              "array(['NEGATIVE', 'POSITIVE'], dtype='<U8')"
            ]
          },
          "metadata":{
            
          },
          "output_type":"display_data"
        }
      ],
      "metadata":{
        
      }
    },
    {
      "cell_type":"code",
      "source":[
        
      ],
      "execution_count":0,
      "outputs":[
        
      ],
      "metadata":{
        
      }
    }
  ],
  "metadata":{
    
  },
  "nbformat":4,
  "nbformat_minor":0
}