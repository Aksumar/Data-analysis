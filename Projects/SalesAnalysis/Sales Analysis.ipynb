{
  "cells":[
    {
      "cell_type":"code",
      "source":[
        "import pandas as pd\n",
        "from os import listdir\n",
        "import matplotlib.pyplot as plt\n",
        "import numpy as np\n",
        "import seaborn as sns"
      ],
      "execution_count":0,
      "outputs":[
        
      ],
      "metadata":{
        
      }
    },
    {
      "cell_type":"markdown",
      "source":[
        "# Объединение файлов в единый файл "
      ],
      "metadata":{
        
      }
    },
    {
      "cell_type":"code",
      "source":[
        "df = pd.DataFrame()\n",
        "\n",
        "for file in listdir(\"data\"):\n",
        "    df = pd.concat([df, pd.read_csv('data\/' +  file)], ignore_index=True)\n",
        "\n",
        "df.head()"
      ],
      "execution_count":0,
      "outputs":[
        {
          "data":{
            "text\/html":[
              "<div>\n",
              "<style scoped>\n",
              "    .dataframe tbody tr th:only-of-type {\n",
              "        vertical-align: middle;\n",
              "    }\n",
              "\n",
              "    .dataframe tbody tr th {\n",
              "        vertical-align: top;\n",
              "    }\n",
              "\n",
              "    .dataframe thead th {\n",
              "        text-align: right;\n",
              "    }\n",
              "<\/style>\n",
              "<table border=\"1\" class=\"dataframe\">\n",
              "  <thead>\n",
              "    <tr style=\"text-align: right;\">\n",
              "      <th><\/th>\n",
              "      <th>Order ID<\/th>\n",
              "      <th>Product<\/th>\n",
              "      <th>Quantity Ordered<\/th>\n",
              "      <th>Price Each<\/th>\n",
              "      <th>Order Date<\/th>\n",
              "      <th>Purchase Address<\/th>\n",
              "    <\/tr>\n",
              "  <\/thead>\n",
              "  <tbody>\n",
              "    <tr>\n",
              "      <th>0<\/th>\n",
              "      <td>209921<\/td>\n",
              "      <td>USB-C Charging Cable<\/td>\n",
              "      <td>1<\/td>\n",
              "      <td>11.95<\/td>\n",
              "      <td>06\/23\/19 19:34<\/td>\n",
              "      <td>950 Walnut St, Portland, ME 04101<\/td>\n",
              "    <\/tr>\n",
              "    <tr>\n",
              "      <th>1<\/th>\n",
              "      <td>209922<\/td>\n",
              "      <td>Macbook Pro Laptop<\/td>\n",
              "      <td>1<\/td>\n",
              "      <td>1700.0<\/td>\n",
              "      <td>06\/30\/19 10:05<\/td>\n",
              "      <td>80 4th St, San Francisco, CA 94016<\/td>\n",
              "    <\/tr>\n",
              "    <tr>\n",
              "      <th>2<\/th>\n",
              "      <td>209923<\/td>\n",
              "      <td>ThinkPad Laptop<\/td>\n",
              "      <td>1<\/td>\n",
              "      <td>999.99<\/td>\n",
              "      <td>06\/24\/19 20:18<\/td>\n",
              "      <td>402 Jackson St, Los Angeles, CA 90001<\/td>\n",
              "    <\/tr>\n",
              "    <tr>\n",
              "      <th>3<\/th>\n",
              "      <td>209924<\/td>\n",
              "      <td>27in FHD Monitor<\/td>\n",
              "      <td>1<\/td>\n",
              "      <td>149.99<\/td>\n",
              "      <td>06\/05\/19 10:21<\/td>\n",
              "      <td>560 10th St, Seattle, WA 98101<\/td>\n",
              "    <\/tr>\n",
              "    <tr>\n",
              "      <th>4<\/th>\n",
              "      <td>209925<\/td>\n",
              "      <td>Bose SoundSport Headphones<\/td>\n",
              "      <td>1<\/td>\n",
              "      <td>99.99<\/td>\n",
              "      <td>06\/25\/19 18:58<\/td>\n",
              "      <td>545 2nd St, San Francisco, CA 94016<\/td>\n",
              "    <\/tr>\n",
              "  <\/tbody>\n",
              "<\/table>\n",
              "<\/div>"
            ]
          },
          "metadata":{
            
          },
          "output_type":"display_data"
        }
      ],
      "metadata":{
        
      }
    },
    {
      "cell_type":"markdown",
      "source":[
        "# Подготовка и чистка данных"
      ],
      "metadata":{
        
      }
    },
    {
      "cell_type":"markdown",
      "source":[
        "В данном блоке исследуем данные, чистим их."
      ],
      "metadata":{
        
      }
    },
    {
      "cell_type":"code",
      "source":[
        "df.info()"
      ],
      "execution_count":0,
      "outputs":[
        {
          "name":"stdout",
          "text":[
            "<class 'pandas.core.frame.DataFrame'>\n",
            "RangeIndex: 186850 entries, 0 to 186849\n",
            "Data columns (total 6 columns):\n",
            " #   Column            Non-Null Count   Dtype \n",
            "---  ------            --------------   ----- \n",
            " 0   Order ID          186305 non-null  object\n",
            " 1   Product           186305 non-null  object\n",
            " 2   Quantity Ordered  186305 non-null  object\n",
            " 3   Price Each        186305 non-null  object\n",
            " 4   Order Date        186305 non-null  object\n",
            " 5   Purchase Address  186305 non-null  object\n",
            "dtypes: object(6)\n",
            "memory usage: 8.6+ MB\n"
          ],
          "output_type":"stream"
        }
      ],
      "metadata":{
        
      }
    },
    {
      "cell_type":"markdown",
      "source":[
        "Так-как кол-во данных во всех колонках одинаковое - ни в какой строке нет NaN данных. (Но могут быть строки полностью NaN)"
      ],
      "metadata":{
        
      }
    },
    {
      "cell_type":"code",
      "source":[
        "df.describe()"
      ],
      "execution_count":0,
      "outputs":[
        {
          "data":{
            "text\/html":[
              "<div>\n",
              "<style scoped>\n",
              "    .dataframe tbody tr th:only-of-type {\n",
              "        vertical-align: middle;\n",
              "    }\n",
              "\n",
              "    .dataframe tbody tr th {\n",
              "        vertical-align: top;\n",
              "    }\n",
              "\n",
              "    .dataframe thead th {\n",
              "        text-align: right;\n",
              "    }\n",
              "<\/style>\n",
              "<table border=\"1\" class=\"dataframe\">\n",
              "  <thead>\n",
              "    <tr style=\"text-align: right;\">\n",
              "      <th><\/th>\n",
              "      <th>Order ID<\/th>\n",
              "      <th>Product<\/th>\n",
              "      <th>Quantity Ordered<\/th>\n",
              "      <th>Price Each<\/th>\n",
              "      <th>Order Date<\/th>\n",
              "      <th>Purchase Address<\/th>\n",
              "    <\/tr>\n",
              "  <\/thead>\n",
              "  <tbody>\n",
              "    <tr>\n",
              "      <th>count<\/th>\n",
              "      <td>186305<\/td>\n",
              "      <td>186305<\/td>\n",
              "      <td>186305<\/td>\n",
              "      <td>186305<\/td>\n",
              "      <td>186305<\/td>\n",
              "      <td>186305<\/td>\n",
              "    <\/tr>\n",
              "    <tr>\n",
              "      <th>unique<\/th>\n",
              "      <td>178438<\/td>\n",
              "      <td>20<\/td>\n",
              "      <td>10<\/td>\n",
              "      <td>24<\/td>\n",
              "      <td>142396<\/td>\n",
              "      <td>140788<\/td>\n",
              "    <\/tr>\n",
              "    <tr>\n",
              "      <th>top<\/th>\n",
              "      <td>Order ID<\/td>\n",
              "      <td>USB-C Charging Cable<\/td>\n",
              "      <td>1<\/td>\n",
              "      <td>11.95<\/td>\n",
              "      <td>Order Date<\/td>\n",
              "      <td>Purchase Address<\/td>\n",
              "    <\/tr>\n",
              "    <tr>\n",
              "      <th>freq<\/th>\n",
              "      <td>355<\/td>\n",
              "      <td>21903<\/td>\n",
              "      <td>168552<\/td>\n",
              "      <td>21903<\/td>\n",
              "      <td>355<\/td>\n",
              "      <td>355<\/td>\n",
              "    <\/tr>\n",
              "  <\/tbody>\n",
              "<\/table>\n",
              "<\/div>"
            ]
          },
          "metadata":{
            
          },
          "output_type":"display_data"
        }
      ],
      "metadata":{
        
      }
    },
    {
      "cell_type":"markdown",
      "source":[
        "  - Order ID :\n",
        "    - unique != count -> несколько строк описывают один заказ\n",
        "    - top = 'Order ID' - это какая-то аномалия, надо проверить, почему самое повторяющееся значение в колонке = заголовок этой колонки и оно повторяется аж 355 раз.\n",
        "- Product :\n",
        "    -  unique = 20 -> Данные всего по 20 товарам.\n",
        "    -  top = 1 -> В большиснтве заказов (~90%) присутствует 1 уникальный продукт\n",
        "- Price Each - числовая характеристика\n",
        "- Order Date\n",
        "    -  top = 'Order Date' - это какая-то аномалия, надо проверить, почему самое повторяющееся значение в колонке = заголовок этой колонки и оно повторяется аж 355 раз.\n",
        "- Purchase Address :\n",
        "    - top = 'Purchase Address' - это какая-то аномалия, надо проверить, почему самое повторяющееся значение в колонке = заголовок этой колонки и оно повторяется аж 355 раз."
      ],
      "metadata":{
        
      }
    },
    {
      "cell_type":"code",
      "source":[
        "df[df['Order ID'] == 'Order ID']"
      ],
      "execution_count":0,
      "outputs":[
        {
          "data":{
            "text\/html":[
              "<div>\n",
              "<style scoped>\n",
              "    .dataframe tbody tr th:only-of-type {\n",
              "        vertical-align: middle;\n",
              "    }\n",
              "\n",
              "    .dataframe tbody tr th {\n",
              "        vertical-align: top;\n",
              "    }\n",
              "\n",
              "    .dataframe thead th {\n",
              "        text-align: right;\n",
              "    }\n",
              "<\/style>\n",
              "<table border=\"1\" class=\"dataframe\">\n",
              "  <thead>\n",
              "    <tr style=\"text-align: right;\">\n",
              "      <th><\/th>\n",
              "      <th>Order ID<\/th>\n",
              "      <th>Product<\/th>\n",
              "      <th>Quantity Ordered<\/th>\n",
              "      <th>Price Each<\/th>\n",
              "      <th>Order Date<\/th>\n",
              "      <th>Purchase Address<\/th>\n",
              "    <\/tr>\n",
              "  <\/thead>\n",
              "  <tbody>\n",
              "    <tr>\n",
              "      <th>158<\/th>\n",
              "      <td>Order ID<\/td>\n",
              "      <td>Product<\/td>\n",
              "      <td>Quantity Ordered<\/td>\n",
              "      <td>Price Each<\/td>\n",
              "      <td>Order Date<\/td>\n",
              "      <td>Purchase Address<\/td>\n",
              "    <\/tr>\n",
              "    <tr>\n",
              "      <th>990<\/th>\n",
              "      <td>Order ID<\/td>\n",
              "      <td>Product<\/td>\n",
              "      <td>Quantity Ordered<\/td>\n",
              "      <td>Price Each<\/td>\n",
              "      <td>Order Date<\/td>\n",
              "      <td>Purchase Address<\/td>\n",
              "    <\/tr>\n",
              "    <tr>\n",
              "      <th>1679<\/th>\n",
              "      <td>Order ID<\/td>\n",
              "      <td>Product<\/td>\n",
              "      <td>Quantity Ordered<\/td>\n",
              "      <td>Price Each<\/td>\n",
              "      <td>Order Date<\/td>\n",
              "      <td>Purchase Address<\/td>\n",
              "    <\/tr>\n",
              "    <tr>\n",
              "      <th>1684<\/th>\n",
              "      <td>Order ID<\/td>\n",
              "      <td>Product<\/td>\n",
              "      <td>Quantity Ordered<\/td>\n",
              "      <td>Price Each<\/td>\n",
              "      <td>Order Date<\/td>\n",
              "      <td>Purchase Address<\/td>\n",
              "    <\/tr>\n",
              "    <tr>\n",
              "      <th>3126<\/th>\n",
              "      <td>Order ID<\/td>\n",
              "      <td>Product<\/td>\n",
              "      <td>Quantity Ordered<\/td>\n",
              "      <td>Price Each<\/td>\n",
              "      <td>Order Date<\/td>\n",
              "      <td>Purchase Address<\/td>\n",
              "    <\/tr>\n",
              "    <tr>\n",
              "      <th>...<\/th>\n",
              "      <td>...<\/td>\n",
              "      <td>...<\/td>\n",
              "      <td>...<\/td>\n",
              "      <td>...<\/td>\n",
              "      <td>...<\/td>\n",
              "      <td>...<\/td>\n",
              "    <\/tr>\n",
              "    <tr>\n",
              "      <th>184502<\/th>\n",
              "      <td>Order ID<\/td>\n",
              "      <td>Product<\/td>\n",
              "      <td>Quantity Ordered<\/td>\n",
              "      <td>Price Each<\/td>\n",
              "      <td>Order Date<\/td>\n",
              "      <td>Purchase Address<\/td>\n",
              "    <\/tr>\n",
              "    <tr>\n",
              "      <th>184542<\/th>\n",
              "      <td>Order ID<\/td>\n",
              "      <td>Product<\/td>\n",
              "      <td>Quantity Ordered<\/td>\n",
              "      <td>Price Each<\/td>\n",
              "      <td>Order Date<\/td>\n",
              "      <td>Purchase Address<\/td>\n",
              "    <\/tr>\n",
              "    <tr>\n",
              "      <th>185088<\/th>\n",
              "      <td>Order ID<\/td>\n",
              "      <td>Product<\/td>\n",
              "      <td>Quantity Ordered<\/td>\n",
              "      <td>Price Each<\/td>\n",
              "      <td>Order Date<\/td>\n",
              "      <td>Purchase Address<\/td>\n",
              "    <\/tr>\n",
              "    <tr>\n",
              "      <th>185359<\/th>\n",
              "      <td>Order ID<\/td>\n",
              "      <td>Product<\/td>\n",
              "      <td>Quantity Ordered<\/td>\n",
              "      <td>Price Each<\/td>\n",
              "      <td>Order Date<\/td>\n",
              "      <td>Purchase Address<\/td>\n",
              "    <\/tr>\n",
              "    <tr>\n",
              "      <th>186774<\/th>\n",
              "      <td>Order ID<\/td>\n",
              "      <td>Product<\/td>\n",
              "      <td>Quantity Ordered<\/td>\n",
              "      <td>Price Each<\/td>\n",
              "      <td>Order Date<\/td>\n",
              "      <td>Purchase Address<\/td>\n",
              "    <\/tr>\n",
              "  <\/tbody>\n",
              "<\/table>\n",
              "<p>355 rows × 6 columns<\/p>\n",
              "<\/div>"
            ]
          },
          "metadata":{
            
          },
          "output_type":"display_data"
        }
      ],
      "metadata":{
        
      }
    },
    {
      "cell_type":"markdown",
      "source":[
        "Странная аномалия, дропним такие строки из нашей выборки"
      ],
      "metadata":{
        
      }
    },
    {
      "cell_type":"code",
      "source":[
        "df = df[df['Order ID'] != 'Order ID']\n",
        "len(df)"
      ],
      "execution_count":0,
      "outputs":[
        {
          "data":{
            "text\/plain":[
              "186495"
            ]
          },
          "metadata":{
            
          },
          "output_type":"display_data"
        }
      ],
      "metadata":{
        
      }
    },
    {
      "cell_type":"code",
      "source":[
        "df.describe()"
      ],
      "execution_count":0,
      "outputs":[
        {
          "data":{
            "text\/html":[
              "<div>\n",
              "<style scoped>\n",
              "    .dataframe tbody tr th:only-of-type {\n",
              "        vertical-align: middle;\n",
              "    }\n",
              "\n",
              "    .dataframe tbody tr th {\n",
              "        vertical-align: top;\n",
              "    }\n",
              "\n",
              "    .dataframe thead th {\n",
              "        text-align: right;\n",
              "    }\n",
              "<\/style>\n",
              "<table border=\"1\" class=\"dataframe\">\n",
              "  <thead>\n",
              "    <tr style=\"text-align: right;\">\n",
              "      <th><\/th>\n",
              "      <th>Order ID<\/th>\n",
              "      <th>Product<\/th>\n",
              "      <th>Quantity Ordered<\/th>\n",
              "      <th>Price Each<\/th>\n",
              "      <th>Order Date<\/th>\n",
              "      <th>Purchase Address<\/th>\n",
              "    <\/tr>\n",
              "  <\/thead>\n",
              "  <tbody>\n",
              "    <tr>\n",
              "      <th>count<\/th>\n",
              "      <td>185950<\/td>\n",
              "      <td>185950<\/td>\n",
              "      <td>185950<\/td>\n",
              "      <td>185950<\/td>\n",
              "      <td>185950<\/td>\n",
              "      <td>185950<\/td>\n",
              "    <\/tr>\n",
              "    <tr>\n",
              "      <th>unique<\/th>\n",
              "      <td>178437<\/td>\n",
              "      <td>19<\/td>\n",
              "      <td>9<\/td>\n",
              "      <td>23<\/td>\n",
              "      <td>142395<\/td>\n",
              "      <td>140787<\/td>\n",
              "    <\/tr>\n",
              "    <tr>\n",
              "      <th>top<\/th>\n",
              "      <td>160873<\/td>\n",
              "      <td>USB-C Charging Cable<\/td>\n",
              "      <td>1<\/td>\n",
              "      <td>11.95<\/td>\n",
              "      <td>12\/15\/19 20:16<\/td>\n",
              "      <td>193 Forest St, San Francisco, CA 94016<\/td>\n",
              "    <\/tr>\n",
              "    <tr>\n",
              "      <th>freq<\/th>\n",
              "      <td>5<\/td>\n",
              "      <td>21903<\/td>\n",
              "      <td>168552<\/td>\n",
              "      <td>21903<\/td>\n",
              "      <td>8<\/td>\n",
              "      <td>9<\/td>\n",
              "    <\/tr>\n",
              "  <\/tbody>\n",
              "<\/table>\n",
              "<\/div>"
            ]
          },
          "metadata":{
            
          },
          "output_type":"display_data"
        }
      ],
      "metadata":{
        
      }
    },
    {
      "cell_type":"markdown",
      "source":[
        "  - Order ID :\n",
        "    - unique != count -> несколько строк описывают один заказ\n",
        "    - top = 5 -> Максимальное кол-во уникального наименования товара в заказе = 5\n",
        "- Product :\n",
        "    -  unique = 19 -> Данные всего по 19 товарам.\n",
        "    -  top = USB-C Charging\n",
        "- Quantity Ordered\n",
        "    -  top = 1 -> В большиснтве заказов (~90%) присутствует 1 уникальный продукт\n",
        "- Price Each - числовая характеристика. \n",
        "    - Многовероятно, что top = 11.95 - цена топового товара USB-C Charging, т.к. freq одинаковое в обеих колонках\n",
        "- Order Date\n",
        "    -  числовая хакаректистика\n",
        "- Purchase Address :\n",
        "    - числовая характеристика"
      ],
      "metadata":{
        
      }
    },
    {
      "cell_type":"markdown",
      "source":[
        "Убираем строки с NaN c помощью isnull()"
      ],
      "metadata":{
        
      }
    },
    {
      "cell_type":"code",
      "source":[
        "#Проверяю, как работает isnull()\n",
        "df.isnull()"
      ],
      "execution_count":0,
      "outputs":[
        {
          "data":{
            "text\/html":[
              "<div>\n",
              "<style scoped>\n",
              "    .dataframe tbody tr th:only-of-type {\n",
              "        vertical-align: middle;\n",
              "    }\n",
              "\n",
              "    .dataframe tbody tr th {\n",
              "        vertical-align: top;\n",
              "    }\n",
              "\n",
              "    .dataframe thead th {\n",
              "        text-align: right;\n",
              "    }\n",
              "<\/style>\n",
              "<table border=\"1\" class=\"dataframe\">\n",
              "  <thead>\n",
              "    <tr style=\"text-align: right;\">\n",
              "      <th><\/th>\n",
              "      <th>Order ID<\/th>\n",
              "      <th>Product<\/th>\n",
              "      <th>Quantity Ordered<\/th>\n",
              "      <th>Price Each<\/th>\n",
              "      <th>Order Date<\/th>\n",
              "      <th>Purchase Address<\/th>\n",
              "    <\/tr>\n",
              "  <\/thead>\n",
              "  <tbody>\n",
              "    <tr>\n",
              "      <th>0<\/th>\n",
              "      <td>False<\/td>\n",
              "      <td>False<\/td>\n",
              "      <td>False<\/td>\n",
              "      <td>False<\/td>\n",
              "      <td>False<\/td>\n",
              "      <td>False<\/td>\n",
              "    <\/tr>\n",
              "    <tr>\n",
              "      <th>1<\/th>\n",
              "      <td>False<\/td>\n",
              "      <td>False<\/td>\n",
              "      <td>False<\/td>\n",
              "      <td>False<\/td>\n",
              "      <td>False<\/td>\n",
              "      <td>False<\/td>\n",
              "    <\/tr>\n",
              "    <tr>\n",
              "      <th>2<\/th>\n",
              "      <td>False<\/td>\n",
              "      <td>False<\/td>\n",
              "      <td>False<\/td>\n",
              "      <td>False<\/td>\n",
              "      <td>False<\/td>\n",
              "      <td>False<\/td>\n",
              "    <\/tr>\n",
              "    <tr>\n",
              "      <th>3<\/th>\n",
              "      <td>False<\/td>\n",
              "      <td>False<\/td>\n",
              "      <td>False<\/td>\n",
              "      <td>False<\/td>\n",
              "      <td>False<\/td>\n",
              "      <td>False<\/td>\n",
              "    <\/tr>\n",
              "    <tr>\n",
              "      <th>4<\/th>\n",
              "      <td>False<\/td>\n",
              "      <td>False<\/td>\n",
              "      <td>False<\/td>\n",
              "      <td>False<\/td>\n",
              "      <td>False<\/td>\n",
              "      <td>False<\/td>\n",
              "    <\/tr>\n",
              "    <tr>\n",
              "      <th>...<\/th>\n",
              "      <td>...<\/td>\n",
              "      <td>...<\/td>\n",
              "      <td>...<\/td>\n",
              "      <td>...<\/td>\n",
              "      <td>...<\/td>\n",
              "      <td>...<\/td>\n",
              "    <\/tr>\n",
              "    <tr>\n",
              "      <th>186845<\/th>\n",
              "      <td>False<\/td>\n",
              "      <td>False<\/td>\n",
              "      <td>False<\/td>\n",
              "      <td>False<\/td>\n",
              "      <td>False<\/td>\n",
              "      <td>False<\/td>\n",
              "    <\/tr>\n",
              "    <tr>\n",
              "      <th>186846<\/th>\n",
              "      <td>False<\/td>\n",
              "      <td>False<\/td>\n",
              "      <td>False<\/td>\n",
              "      <td>False<\/td>\n",
              "      <td>False<\/td>\n",
              "      <td>False<\/td>\n",
              "    <\/tr>\n",
              "    <tr>\n",
              "      <th>186847<\/th>\n",
              "      <td>False<\/td>\n",
              "      <td>False<\/td>\n",
              "      <td>False<\/td>\n",
              "      <td>False<\/td>\n",
              "      <td>False<\/td>\n",
              "      <td>False<\/td>\n",
              "    <\/tr>\n",
              "    <tr>\n",
              "      <th>186848<\/th>\n",
              "      <td>False<\/td>\n",
              "      <td>False<\/td>\n",
              "      <td>False<\/td>\n",
              "      <td>False<\/td>\n",
              "      <td>False<\/td>\n",
              "      <td>False<\/td>\n",
              "    <\/tr>\n",
              "    <tr>\n",
              "      <th>186849<\/th>\n",
              "      <td>False<\/td>\n",
              "      <td>False<\/td>\n",
              "      <td>False<\/td>\n",
              "      <td>False<\/td>\n",
              "      <td>False<\/td>\n",
              "      <td>False<\/td>\n",
              "    <\/tr>\n",
              "  <\/tbody>\n",
              "<\/table>\n",
              "<p>186495 rows × 6 columns<\/p>\n",
              "<\/div>"
            ]
          },
          "metadata":{
            
          },
          "output_type":"display_data"
        }
      ],
      "metadata":{
        
      }
    },
    {
      "cell_type":"code",
      "source":[
        "#По столбцам\n",
        "df.isnull().any() "
      ],
      "execution_count":0,
      "outputs":[
        {
          "data":{
            "text\/plain":[
              "Order ID            True\n",
              "Product             True\n",
              "Quantity Ordered    True\n",
              "Price Each          True\n",
              "Order Date          True\n",
              "Purchase Address    True\n",
              "dtype: bool"
            ]
          },
          "metadata":{
            
          },
          "output_type":"display_data"
        }
      ],
      "metadata":{
        
      }
    },
    {
      "cell_type":"markdown",
      "source":[
        "В каждом столбце есть нулевые знаечния"
      ],
      "metadata":{
        
      }
    },
    {
      "cell_type":"code",
      "source":[
        "#По строкам\n",
        "df.isnull().any(axis = 1)"
      ],
      "execution_count":0,
      "outputs":[
        {
          "data":{
            "text\/plain":[
              "0         False\n",
              "1         False\n",
              "2         False\n",
              "3         False\n",
              "4         False\n",
              "          ...  \n",
              "186845    False\n",
              "186846    False\n",
              "186847    False\n",
              "186848    False\n",
              "186849    False\n",
              "Length: 186495, dtype: bool"
            ]
          },
          "metadata":{
            
          },
          "output_type":"display_data"
        }
      ],
      "metadata":{
        
      }
    },
    {
      "cell_type":"code",
      "source":[
        "#убрали все тсроки, где везде null\n",
        "df = df[~df.isnull().all(axis = 1)]"
      ],
      "execution_count":0,
      "outputs":[
        
      ],
      "metadata":{
        
      }
    },
    {
      "cell_type":"code",
      "source":[
        "df[df.isnull().any(axis = 1)]"
      ],
      "execution_count":0,
      "outputs":[
        {
          "data":{
            "text\/html":[
              "<div>\n",
              "<style scoped>\n",
              "    .dataframe tbody tr th:only-of-type {\n",
              "        vertical-align: middle;\n",
              "    }\n",
              "\n",
              "    .dataframe tbody tr th {\n",
              "        vertical-align: top;\n",
              "    }\n",
              "\n",
              "    .dataframe thead th {\n",
              "        text-align: right;\n",
              "    }\n",
              "<\/style>\n",
              "<table border=\"1\" class=\"dataframe\">\n",
              "  <thead>\n",
              "    <tr style=\"text-align: right;\">\n",
              "      <th><\/th>\n",
              "      <th>Order ID<\/th>\n",
              "      <th>Product<\/th>\n",
              "      <th>Quantity Ordered<\/th>\n",
              "      <th>Price Each<\/th>\n",
              "      <th>Order Date<\/th>\n",
              "      <th>Purchase Address<\/th>\n",
              "    <\/tr>\n",
              "  <\/thead>\n",
              "  <tbody>\n",
              "  <\/tbody>\n",
              "<\/table>\n",
              "<\/div>"
            ]
          },
          "metadata":{
            
          },
          "output_type":"display_data"
        }
      ],
      "metadata":{
        
      }
    },
    {
      "cell_type":"markdown",
      "source":[
        "Строк, в которых есть Nan больше нет.\n",
        "\n",
        "\n",
        "Провоерим, сходится ли длина df с ненулевыми значениями из describe"
      ],
      "metadata":{
        
      }
    },
    {
      "cell_type":"code",
      "source":[
        "len(df)"
      ],
      "execution_count":0,
      "outputs":[
        {
          "data":{
            "text\/plain":[
              "185950"
            ]
          },
          "metadata":{
            
          },
          "output_type":"display_data"
        }
      ],
      "metadata":{
        
      }
    },
    {
      "cell_type":"markdown",
      "source":[
        "Виват"
      ],
      "metadata":{
        
      }
    },
    {
      "cell_type":"markdown",
      "source":[
        "# Исследуем данных"
      ],
      "metadata":{
        
      }
    },
    {
      "cell_type":"markdown",
      "source":[
        "## What was the best month for sales?\n",
        "    - december - the best\n",
        "    - january - the worst "
      ],
      "metadata":{
        
      }
    },
    {
      "cell_type":"code",
      "source":[
        "df"
      ],
      "execution_count":0,
      "outputs":[
        {
          "data":{
            "text\/html":[
              "<div>\n",
              "<style scoped>\n",
              "    .dataframe tbody tr th:only-of-type {\n",
              "        vertical-align: middle;\n",
              "    }\n",
              "\n",
              "    .dataframe tbody tr th {\n",
              "        vertical-align: top;\n",
              "    }\n",
              "\n",
              "    .dataframe thead th {\n",
              "        text-align: right;\n",
              "    }\n",
              "<\/style>\n",
              "<table border=\"1\" class=\"dataframe\">\n",
              "  <thead>\n",
              "    <tr style=\"text-align: right;\">\n",
              "      <th><\/th>\n",
              "      <th>Order ID<\/th>\n",
              "      <th>Product<\/th>\n",
              "      <th>Quantity Ordered<\/th>\n",
              "      <th>Price Each<\/th>\n",
              "      <th>Order Date<\/th>\n",
              "      <th>Purchase Address<\/th>\n",
              "    <\/tr>\n",
              "  <\/thead>\n",
              "  <tbody>\n",
              "    <tr>\n",
              "      <th>0<\/th>\n",
              "      <td>209921<\/td>\n",
              "      <td>USB-C Charging Cable<\/td>\n",
              "      <td>1<\/td>\n",
              "      <td>11.95<\/td>\n",
              "      <td>06\/23\/19 19:34<\/td>\n",
              "      <td>950 Walnut St, Portland, ME 04101<\/td>\n",
              "    <\/tr>\n",
              "    <tr>\n",
              "      <th>1<\/th>\n",
              "      <td>209922<\/td>\n",
              "      <td>Macbook Pro Laptop<\/td>\n",
              "      <td>1<\/td>\n",
              "      <td>1700.0<\/td>\n",
              "      <td>06\/30\/19 10:05<\/td>\n",
              "      <td>80 4th St, San Francisco, CA 94016<\/td>\n",
              "    <\/tr>\n",
              "    <tr>\n",
              "      <th>2<\/th>\n",
              "      <td>209923<\/td>\n",
              "      <td>ThinkPad Laptop<\/td>\n",
              "      <td>1<\/td>\n",
              "      <td>999.99<\/td>\n",
              "      <td>06\/24\/19 20:18<\/td>\n",
              "      <td>402 Jackson St, Los Angeles, CA 90001<\/td>\n",
              "    <\/tr>\n",
              "    <tr>\n",
              "      <th>3<\/th>\n",
              "      <td>209924<\/td>\n",
              "      <td>27in FHD Monitor<\/td>\n",
              "      <td>1<\/td>\n",
              "      <td>149.99<\/td>\n",
              "      <td>06\/05\/19 10:21<\/td>\n",
              "      <td>560 10th St, Seattle, WA 98101<\/td>\n",
              "    <\/tr>\n",
              "    <tr>\n",
              "      <th>4<\/th>\n",
              "      <td>209925<\/td>\n",
              "      <td>Bose SoundSport Headphones<\/td>\n",
              "      <td>1<\/td>\n",
              "      <td>99.99<\/td>\n",
              "      <td>06\/25\/19 18:58<\/td>\n",
              "      <td>545 2nd St, San Francisco, CA 94016<\/td>\n",
              "    <\/tr>\n",
              "    <tr>\n",
              "      <th>...<\/th>\n",
              "      <td>...<\/td>\n",
              "      <td>...<\/td>\n",
              "      <td>...<\/td>\n",
              "      <td>...<\/td>\n",
              "      <td>...<\/td>\n",
              "      <td>...<\/td>\n",
              "    <\/tr>\n",
              "    <tr>\n",
              "      <th>186845<\/th>\n",
              "      <td>278792<\/td>\n",
              "      <td>AA Batteries (4-pack)<\/td>\n",
              "      <td>1<\/td>\n",
              "      <td>3.84<\/td>\n",
              "      <td>10\/12\/19 04:32<\/td>\n",
              "      <td>920 Adams St, San Francisco, CA 94016<\/td>\n",
              "    <\/tr>\n",
              "    <tr>\n",
              "      <th>186846<\/th>\n",
              "      <td>278793<\/td>\n",
              "      <td>Wired Headphones<\/td>\n",
              "      <td>1<\/td>\n",
              "      <td>11.99<\/td>\n",
              "      <td>10\/28\/19 22:00<\/td>\n",
              "      <td>161 Chestnut St, Los Angeles, CA 90001<\/td>\n",
              "    <\/tr>\n",
              "    <tr>\n",
              "      <th>186847<\/th>\n",
              "      <td>278794<\/td>\n",
              "      <td>AA Batteries (4-pack)<\/td>\n",
              "      <td>1<\/td>\n",
              "      <td>3.84<\/td>\n",
              "      <td>10\/09\/19 20:58<\/td>\n",
              "      <td>346 Spruce St, San Francisco, CA 94016<\/td>\n",
              "    <\/tr>\n",
              "    <tr>\n",
              "      <th>186848<\/th>\n",
              "      <td>278795<\/td>\n",
              "      <td>iPhone<\/td>\n",
              "      <td>1<\/td>\n",
              "      <td>700<\/td>\n",
              "      <td>10\/31\/19 17:21<\/td>\n",
              "      <td>291 Hill St, Seattle, WA 98101<\/td>\n",
              "    <\/tr>\n",
              "    <tr>\n",
              "      <th>186849<\/th>\n",
              "      <td>278796<\/td>\n",
              "      <td>Wired Headphones<\/td>\n",
              "      <td>1<\/td>\n",
              "      <td>11.99<\/td>\n",
              "      <td>10\/13\/19 11:20<\/td>\n",
              "      <td>547 Jefferson St, Los Angeles, CA 90001<\/td>\n",
              "    <\/tr>\n",
              "  <\/tbody>\n",
              "<\/table>\n",
              "<p>185950 rows × 6 columns<\/p>\n",
              "<\/div>"
            ]
          },
          "metadata":{
            
          },
          "output_type":"display_data"
        }
      ],
      "metadata":{
        
      }
    },
    {
      "cell_type":"code",
      "source":[
        "df['Order Date'] = pd.to_datetime(df['Order Date'])"
      ],
      "execution_count":0,
      "outputs":[
        
      ],
      "metadata":{
        
      }
    },
    {
      "cell_type":"code",
      "source":[
        "df['Order Month'] = df['Order Date'].dt.month"
      ],
      "execution_count":0,
      "outputs":[
        
      ],
      "metadata":{
        
      }
    },
    {
      "cell_type":"code",
      "source":[
        "df['Quantity Ordered'] = pd.to_numeric(df['Quantity Ordered'])\n",
        "df['Price Each'] = pd.to_numeric(df['Price Each'])\n",
        "df['Price total'] = df[\"Quantity Ordered\"] * df['Price Each']\n",
        "df"
      ],
      "execution_count":0,
      "outputs":[
        {
          "data":{
            "text\/html":[
              "<div>\n",
              "<style scoped>\n",
              "    .dataframe tbody tr th:only-of-type {\n",
              "        vertical-align: middle;\n",
              "    }\n",
              "\n",
              "    .dataframe tbody tr th {\n",
              "        vertical-align: top;\n",
              "    }\n",
              "\n",
              "    .dataframe thead th {\n",
              "        text-align: right;\n",
              "    }\n",
              "<\/style>\n",
              "<table border=\"1\" class=\"dataframe\">\n",
              "  <thead>\n",
              "    <tr style=\"text-align: right;\">\n",
              "      <th><\/th>\n",
              "      <th>Order ID<\/th>\n",
              "      <th>Product<\/th>\n",
              "      <th>Quantity Ordered<\/th>\n",
              "      <th>Price Each<\/th>\n",
              "      <th>Order Date<\/th>\n",
              "      <th>Purchase Address<\/th>\n",
              "      <th>Order Month<\/th>\n",
              "      <th>Price total<\/th>\n",
              "    <\/tr>\n",
              "  <\/thead>\n",
              "  <tbody>\n",
              "    <tr>\n",
              "      <th>0<\/th>\n",
              "      <td>209921<\/td>\n",
              "      <td>USB-C Charging Cable<\/td>\n",
              "      <td>1<\/td>\n",
              "      <td>11.95<\/td>\n",
              "      <td>2019-06-23 19:34:00<\/td>\n",
              "      <td>950 Walnut St, Portland, ME 04101<\/td>\n",
              "      <td>6<\/td>\n",
              "      <td>11.95<\/td>\n",
              "    <\/tr>\n",
              "    <tr>\n",
              "      <th>1<\/th>\n",
              "      <td>209922<\/td>\n",
              "      <td>Macbook Pro Laptop<\/td>\n",
              "      <td>1<\/td>\n",
              "      <td>1700.00<\/td>\n",
              "      <td>2019-06-30 10:05:00<\/td>\n",
              "      <td>80 4th St, San Francisco, CA 94016<\/td>\n",
              "      <td>6<\/td>\n",
              "      <td>1700.00<\/td>\n",
              "    <\/tr>\n",
              "    <tr>\n",
              "      <th>2<\/th>\n",
              "      <td>209923<\/td>\n",
              "      <td>ThinkPad Laptop<\/td>\n",
              "      <td>1<\/td>\n",
              "      <td>999.99<\/td>\n",
              "      <td>2019-06-24 20:18:00<\/td>\n",
              "      <td>402 Jackson St, Los Angeles, CA 90001<\/td>\n",
              "      <td>6<\/td>\n",
              "      <td>999.99<\/td>\n",
              "    <\/tr>\n",
              "    <tr>\n",
              "      <th>3<\/th>\n",
              "      <td>209924<\/td>\n",
              "      <td>27in FHD Monitor<\/td>\n",
              "      <td>1<\/td>\n",
              "      <td>149.99<\/td>\n",
              "      <td>2019-06-05 10:21:00<\/td>\n",
              "      <td>560 10th St, Seattle, WA 98101<\/td>\n",
              "      <td>6<\/td>\n",
              "      <td>149.99<\/td>\n",
              "    <\/tr>\n",
              "    <tr>\n",
              "      <th>4<\/th>\n",
              "      <td>209925<\/td>\n",
              "      <td>Bose SoundSport Headphones<\/td>\n",
              "      <td>1<\/td>\n",
              "      <td>99.99<\/td>\n",
              "      <td>2019-06-25 18:58:00<\/td>\n",
              "      <td>545 2nd St, San Francisco, CA 94016<\/td>\n",
              "      <td>6<\/td>\n",
              "      <td>99.99<\/td>\n",
              "    <\/tr>\n",
              "    <tr>\n",
              "      <th>...<\/th>\n",
              "      <td>...<\/td>\n",
              "      <td>...<\/td>\n",
              "      <td>...<\/td>\n",
              "      <td>...<\/td>\n",
              "      <td>...<\/td>\n",
              "      <td>...<\/td>\n",
              "      <td>...<\/td>\n",
              "      <td>...<\/td>\n",
              "    <\/tr>\n",
              "    <tr>\n",
              "      <th>186845<\/th>\n",
              "      <td>278792<\/td>\n",
              "      <td>AA Batteries (4-pack)<\/td>\n",
              "      <td>1<\/td>\n",
              "      <td>3.84<\/td>\n",
              "      <td>2019-10-12 04:32:00<\/td>\n",
              "      <td>920 Adams St, San Francisco, CA 94016<\/td>\n",
              "      <td>10<\/td>\n",
              "      <td>3.84<\/td>\n",
              "    <\/tr>\n",
              "    <tr>\n",
              "      <th>186846<\/th>\n",
              "      <td>278793<\/td>\n",
              "      <td>Wired Headphones<\/td>\n",
              "      <td>1<\/td>\n",
              "      <td>11.99<\/td>\n",
              "      <td>2019-10-28 22:00:00<\/td>\n",
              "      <td>161 Chestnut St, Los Angeles, CA 90001<\/td>\n",
              "      <td>10<\/td>\n",
              "      <td>11.99<\/td>\n",
              "    <\/tr>\n",
              "    <tr>\n",
              "      <th>186847<\/th>\n",
              "      <td>278794<\/td>\n",
              "      <td>AA Batteries (4-pack)<\/td>\n",
              "      <td>1<\/td>\n",
              "      <td>3.84<\/td>\n",
              "      <td>2019-10-09 20:58:00<\/td>\n",
              "      <td>346 Spruce St, San Francisco, CA 94016<\/td>\n",
              "      <td>10<\/td>\n",
              "      <td>3.84<\/td>\n",
              "    <\/tr>\n",
              "    <tr>\n",
              "      <th>186848<\/th>\n",
              "      <td>278795<\/td>\n",
              "      <td>iPhone<\/td>\n",
              "      <td>1<\/td>\n",
              "      <td>700.00<\/td>\n",
              "      <td>2019-10-31 17:21:00<\/td>\n",
              "      <td>291 Hill St, Seattle, WA 98101<\/td>\n",
              "      <td>10<\/td>\n",
              "      <td>700.00<\/td>\n",
              "    <\/tr>\n",
              "    <tr>\n",
              "      <th>186849<\/th>\n",
              "      <td>278796<\/td>\n",
              "      <td>Wired Headphones<\/td>\n",
              "      <td>1<\/td>\n",
              "      <td>11.99<\/td>\n",
              "      <td>2019-10-13 11:20:00<\/td>\n",
              "      <td>547 Jefferson St, Los Angeles, CA 90001<\/td>\n",
              "      <td>10<\/td>\n",
              "      <td>11.99<\/td>\n",
              "    <\/tr>\n",
              "  <\/tbody>\n",
              "<\/table>\n",
              "<p>185950 rows × 8 columns<\/p>\n",
              "<\/div>"
            ]
          },
          "metadata":{
            
          },
          "output_type":"display_data"
        }
      ],
      "metadata":{
        
      }
    },
    {
      "cell_type":"code",
      "source":[
        "df.groupby('Order Month').sum()['Price total'].round()"
      ],
      "execution_count":0,
      "outputs":[
        {
          "data":{
            "text\/plain":[
              "Order Month\n",
              "1     1822257.0\n",
              "2     2202022.0\n",
              "3     2807100.0\n",
              "4     3390670.0\n",
              "5     3152607.0\n",
              "6     2577802.0\n",
              "7     2647776.0\n",
              "8     2244468.0\n",
              "9     2097560.0\n",
              "10    3736727.0\n",
              "11    3199603.0\n",
              "12    4613443.0\n",
              "Name: Price total, dtype: float64"
            ]
          },
          "metadata":{
            
          },
          "output_type":"display_data"
        }
      ],
      "metadata":{
        
      }
    },
    {
      "cell_type":"code",
      "source":[
        "months = range(1, 13)\n",
        "plt.bar(months, df.groupby('Order Month').sum()['Price total'])\n",
        "plt.xticks(months)\n",
        "plt.xlabel('Month')\n",
        "plt.ylabel('Sales in US $ million')\n",
        "plt.show()"
      ],
      "execution_count":0,
      "outputs":[
        {
          "data":{
            "image\/png":"[encoded data removed]"
          },
          "metadata":{
            "image\/png":{
              "width":0,
              "height":0
            }
          },
          "output_type":"display_data"
        }
      ],
      "metadata":{
        
      }
    },
    {
      "cell_type":"markdown",
      "source":[
        "##  What city sold the most product? \n",
        "    - San Francisco - AAA Batteries (4-pack)    7408 items"
      ],
      "metadata":{
        
      }
    },
    {
      "cell_type":"code",
      "source":[
        "df"
      ],
      "execution_count":0,
      "outputs":[
        {
          "data":{
            "text\/html":[
              "<div>\n",
              "<style scoped>\n",
              "    .dataframe tbody tr th:only-of-type {\n",
              "        vertical-align: middle;\n",
              "    }\n",
              "\n",
              "    .dataframe tbody tr th {\n",
              "        vertical-align: top;\n",
              "    }\n",
              "\n",
              "    .dataframe thead th {\n",
              "        text-align: right;\n",
              "    }\n",
              "<\/style>\n",
              "<table border=\"1\" class=\"dataframe\">\n",
              "  <thead>\n",
              "    <tr style=\"text-align: right;\">\n",
              "      <th><\/th>\n",
              "      <th>Order ID<\/th>\n",
              "      <th>Product<\/th>\n",
              "      <th>Quantity Ordered<\/th>\n",
              "      <th>Price Each<\/th>\n",
              "      <th>Order Date<\/th>\n",
              "      <th>Purchase Address<\/th>\n",
              "      <th>Order Month<\/th>\n",
              "      <th>Price total<\/th>\n",
              "    <\/tr>\n",
              "  <\/thead>\n",
              "  <tbody>\n",
              "    <tr>\n",
              "      <th>0<\/th>\n",
              "      <td>209921<\/td>\n",
              "      <td>USB-C Charging Cable<\/td>\n",
              "      <td>1<\/td>\n",
              "      <td>11.95<\/td>\n",
              "      <td>2019-06-23 19:34:00<\/td>\n",
              "      <td>950 Walnut St, Portland, ME 04101<\/td>\n",
              "      <td>6<\/td>\n",
              "      <td>11.95<\/td>\n",
              "    <\/tr>\n",
              "    <tr>\n",
              "      <th>1<\/th>\n",
              "      <td>209922<\/td>\n",
              "      <td>Macbook Pro Laptop<\/td>\n",
              "      <td>1<\/td>\n",
              "      <td>1700.00<\/td>\n",
              "      <td>2019-06-30 10:05:00<\/td>\n",
              "      <td>80 4th St, San Francisco, CA 94016<\/td>\n",
              "      <td>6<\/td>\n",
              "      <td>1700.00<\/td>\n",
              "    <\/tr>\n",
              "    <tr>\n",
              "      <th>2<\/th>\n",
              "      <td>209923<\/td>\n",
              "      <td>ThinkPad Laptop<\/td>\n",
              "      <td>1<\/td>\n",
              "      <td>999.99<\/td>\n",
              "      <td>2019-06-24 20:18:00<\/td>\n",
              "      <td>402 Jackson St, Los Angeles, CA 90001<\/td>\n",
              "      <td>6<\/td>\n",
              "      <td>999.99<\/td>\n",
              "    <\/tr>\n",
              "    <tr>\n",
              "      <th>3<\/th>\n",
              "      <td>209924<\/td>\n",
              "      <td>27in FHD Monitor<\/td>\n",
              "      <td>1<\/td>\n",
              "      <td>149.99<\/td>\n",
              "      <td>2019-06-05 10:21:00<\/td>\n",
              "      <td>560 10th St, Seattle, WA 98101<\/td>\n",
              "      <td>6<\/td>\n",
              "      <td>149.99<\/td>\n",
              "    <\/tr>\n",
              "    <tr>\n",
              "      <th>4<\/th>\n",
              "      <td>209925<\/td>\n",
              "      <td>Bose SoundSport Headphones<\/td>\n",
              "      <td>1<\/td>\n",
              "      <td>99.99<\/td>\n",
              "      <td>2019-06-25 18:58:00<\/td>\n",
              "      <td>545 2nd St, San Francisco, CA 94016<\/td>\n",
              "      <td>6<\/td>\n",
              "      <td>99.99<\/td>\n",
              "    <\/tr>\n",
              "    <tr>\n",
              "      <th>...<\/th>\n",
              "      <td>...<\/td>\n",
              "      <td>...<\/td>\n",
              "      <td>...<\/td>\n",
              "      <td>...<\/td>\n",
              "      <td>...<\/td>\n",
              "      <td>...<\/td>\n",
              "      <td>...<\/td>\n",
              "      <td>...<\/td>\n",
              "    <\/tr>\n",
              "    <tr>\n",
              "      <th>186845<\/th>\n",
              "      <td>278792<\/td>\n",
              "      <td>AA Batteries (4-pack)<\/td>\n",
              "      <td>1<\/td>\n",
              "      <td>3.84<\/td>\n",
              "      <td>2019-10-12 04:32:00<\/td>\n",
              "      <td>920 Adams St, San Francisco, CA 94016<\/td>\n",
              "      <td>10<\/td>\n",
              "      <td>3.84<\/td>\n",
              "    <\/tr>\n",
              "    <tr>\n",
              "      <th>186846<\/th>\n",
              "      <td>278793<\/td>\n",
              "      <td>Wired Headphones<\/td>\n",
              "      <td>1<\/td>\n",
              "      <td>11.99<\/td>\n",
              "      <td>2019-10-28 22:00:00<\/td>\n",
              "      <td>161 Chestnut St, Los Angeles, CA 90001<\/td>\n",
              "      <td>10<\/td>\n",
              "      <td>11.99<\/td>\n",
              "    <\/tr>\n",
              "    <tr>\n",
              "      <th>186847<\/th>\n",
              "      <td>278794<\/td>\n",
              "      <td>AA Batteries (4-pack)<\/td>\n",
              "      <td>1<\/td>\n",
              "      <td>3.84<\/td>\n",
              "      <td>2019-10-09 20:58:00<\/td>\n",
              "      <td>346 Spruce St, San Francisco, CA 94016<\/td>\n",
              "      <td>10<\/td>\n",
              "      <td>3.84<\/td>\n",
              "    <\/tr>\n",
              "    <tr>\n",
              "      <th>186848<\/th>\n",
              "      <td>278795<\/td>\n",
              "      <td>iPhone<\/td>\n",
              "      <td>1<\/td>\n",
              "      <td>700.00<\/td>\n",
              "      <td>2019-10-31 17:21:00<\/td>\n",
              "      <td>291 Hill St, Seattle, WA 98101<\/td>\n",
              "      <td>10<\/td>\n",
              "      <td>700.00<\/td>\n",
              "    <\/tr>\n",
              "    <tr>\n",
              "      <th>186849<\/th>\n",
              "      <td>278796<\/td>\n",
              "      <td>Wired Headphones<\/td>\n",
              "      <td>1<\/td>\n",
              "      <td>11.99<\/td>\n",
              "      <td>2019-10-13 11:20:00<\/td>\n",
              "      <td>547 Jefferson St, Los Angeles, CA 90001<\/td>\n",
              "      <td>10<\/td>\n",
              "      <td>11.99<\/td>\n",
              "    <\/tr>\n",
              "  <\/tbody>\n",
              "<\/table>\n",
              "<p>185950 rows × 8 columns<\/p>\n",
              "<\/div>"
            ]
          },
          "metadata":{
            
          },
          "output_type":"display_data"
        }
      ],
      "metadata":{
        
      }
    },
    {
      "cell_type":"code",
      "source":[
        "def get_city(x):\n",
        "    return x.split(',')[1].strip()\n",
        "\n",
        "def get_state(x):\n",
        "    return x.split(',')[2].split()[0].strip()\n",
        "\n",
        "df['City'] = df['Purchase Address'].apply(lambda x : f\"{get_city(x)} {get_state(x)}\")\n",
        "df"
      ],
      "execution_count":0,
      "outputs":[
        {
          "data":{
            "text\/html":[
              "<div>\n",
              "<style scoped>\n",
              "    .dataframe tbody tr th:only-of-type {\n",
              "        vertical-align: middle;\n",
              "    }\n",
              "\n",
              "    .dataframe tbody tr th {\n",
              "        vertical-align: top;\n",
              "    }\n",
              "\n",
              "    .dataframe thead th {\n",
              "        text-align: right;\n",
              "    }\n",
              "<\/style>\n",
              "<table border=\"1\" class=\"dataframe\">\n",
              "  <thead>\n",
              "    <tr style=\"text-align: right;\">\n",
              "      <th><\/th>\n",
              "      <th>Order ID<\/th>\n",
              "      <th>Product<\/th>\n",
              "      <th>Quantity Ordered<\/th>\n",
              "      <th>Price Each<\/th>\n",
              "      <th>Order Date<\/th>\n",
              "      <th>Purchase Address<\/th>\n",
              "      <th>Order Month<\/th>\n",
              "      <th>Price total<\/th>\n",
              "      <th>City<\/th>\n",
              "    <\/tr>\n",
              "  <\/thead>\n",
              "  <tbody>\n",
              "    <tr>\n",
              "      <th>0<\/th>\n",
              "      <td>209921<\/td>\n",
              "      <td>USB-C Charging Cable<\/td>\n",
              "      <td>1<\/td>\n",
              "      <td>11.95<\/td>\n",
              "      <td>2019-06-23 19:34:00<\/td>\n",
              "      <td>950 Walnut St, Portland, ME 04101<\/td>\n",
              "      <td>6<\/td>\n",
              "      <td>11.95<\/td>\n",
              "      <td>Portland ME<\/td>\n",
              "    <\/tr>\n",
              "    <tr>\n",
              "      <th>1<\/th>\n",
              "      <td>209922<\/td>\n",
              "      <td>Macbook Pro Laptop<\/td>\n",
              "      <td>1<\/td>\n",
              "      <td>1700.00<\/td>\n",
              "      <td>2019-06-30 10:05:00<\/td>\n",
              "      <td>80 4th St, San Francisco, CA 94016<\/td>\n",
              "      <td>6<\/td>\n",
              "      <td>1700.00<\/td>\n",
              "      <td>San Francisco CA<\/td>\n",
              "    <\/tr>\n",
              "    <tr>\n",
              "      <th>2<\/th>\n",
              "      <td>209923<\/td>\n",
              "      <td>ThinkPad Laptop<\/td>\n",
              "      <td>1<\/td>\n",
              "      <td>999.99<\/td>\n",
              "      <td>2019-06-24 20:18:00<\/td>\n",
              "      <td>402 Jackson St, Los Angeles, CA 90001<\/td>\n",
              "      <td>6<\/td>\n",
              "      <td>999.99<\/td>\n",
              "      <td>Los Angeles CA<\/td>\n",
              "    <\/tr>\n",
              "    <tr>\n",
              "      <th>3<\/th>\n",
              "      <td>209924<\/td>\n",
              "      <td>27in FHD Monitor<\/td>\n",
              "      <td>1<\/td>\n",
              "      <td>149.99<\/td>\n",
              "      <td>2019-06-05 10:21:00<\/td>\n",
              "      <td>560 10th St, Seattle, WA 98101<\/td>\n",
              "      <td>6<\/td>\n",
              "      <td>149.99<\/td>\n",
              "      <td>Seattle WA<\/td>\n",
              "    <\/tr>\n",
              "    <tr>\n",
              "      <th>4<\/th>\n",
              "      <td>209925<\/td>\n",
              "      <td>Bose SoundSport Headphones<\/td>\n",
              "      <td>1<\/td>\n",
              "      <td>99.99<\/td>\n",
              "      <td>2019-06-25 18:58:00<\/td>\n",
              "      <td>545 2nd St, San Francisco, CA 94016<\/td>\n",
              "      <td>6<\/td>\n",
              "      <td>99.99<\/td>\n",
              "      <td>San Francisco CA<\/td>\n",
              "    <\/tr>\n",
              "    <tr>\n",
              "      <th>...<\/th>\n",
              "      <td>...<\/td>\n",
              "      <td>...<\/td>\n",
              "      <td>...<\/td>\n",
              "      <td>...<\/td>\n",
              "      <td>...<\/td>\n",
              "      <td>...<\/td>\n",
              "      <td>...<\/td>\n",
              "      <td>...<\/td>\n",
              "      <td>...<\/td>\n",
              "    <\/tr>\n",
              "    <tr>\n",
              "      <th>186845<\/th>\n",
              "      <td>278792<\/td>\n",
              "      <td>AA Batteries (4-pack)<\/td>\n",
              "      <td>1<\/td>\n",
              "      <td>3.84<\/td>\n",
              "      <td>2019-10-12 04:32:00<\/td>\n",
              "      <td>920 Adams St, San Francisco, CA 94016<\/td>\n",
              "      <td>10<\/td>\n",
              "      <td>3.84<\/td>\n",
              "      <td>San Francisco CA<\/td>\n",
              "    <\/tr>\n",
              "    <tr>\n",
              "      <th>186846<\/th>\n",
              "      <td>278793<\/td>\n",
              "      <td>Wired Headphones<\/td>\n",
              "      <td>1<\/td>\n",
              "      <td>11.99<\/td>\n",
              "      <td>2019-10-28 22:00:00<\/td>\n",
              "      <td>161 Chestnut St, Los Angeles, CA 90001<\/td>\n",
              "      <td>10<\/td>\n",
              "      <td>11.99<\/td>\n",
              "      <td>Los Angeles CA<\/td>\n",
              "    <\/tr>\n",
              "    <tr>\n",
              "      <th>186847<\/th>\n",
              "      <td>278794<\/td>\n",
              "      <td>AA Batteries (4-pack)<\/td>\n",
              "      <td>1<\/td>\n",
              "      <td>3.84<\/td>\n",
              "      <td>2019-10-09 20:58:00<\/td>\n",
              "      <td>346 Spruce St, San Francisco, CA 94016<\/td>\n",
              "      <td>10<\/td>\n",
              "      <td>3.84<\/td>\n",
              "      <td>San Francisco CA<\/td>\n",
              "    <\/tr>\n",
              "    <tr>\n",
              "      <th>186848<\/th>\n",
              "      <td>278795<\/td>\n",
              "      <td>iPhone<\/td>\n",
              "      <td>1<\/td>\n",
              "      <td>700.00<\/td>\n",
              "      <td>2019-10-31 17:21:00<\/td>\n",
              "      <td>291 Hill St, Seattle, WA 98101<\/td>\n",
              "      <td>10<\/td>\n",
              "      <td>700.00<\/td>\n",
              "      <td>Seattle WA<\/td>\n",
              "    <\/tr>\n",
              "    <tr>\n",
              "      <th>186849<\/th>\n",
              "      <td>278796<\/td>\n",
              "      <td>Wired Headphones<\/td>\n",
              "      <td>1<\/td>\n",
              "      <td>11.99<\/td>\n",
              "      <td>2019-10-13 11:20:00<\/td>\n",
              "      <td>547 Jefferson St, Los Angeles, CA 90001<\/td>\n",
              "      <td>10<\/td>\n",
              "      <td>11.99<\/td>\n",
              "      <td>Los Angeles CA<\/td>\n",
              "    <\/tr>\n",
              "  <\/tbody>\n",
              "<\/table>\n",
              "<p>185950 rows × 9 columns<\/p>\n",
              "<\/div>"
            ]
          },
          "metadata":{
            
          },
          "output_type":"display_data"
        }
      ],
      "metadata":{
        
      }
    },
    {
      "cell_type":"code",
      "source":[
        "result = df.groupby('City').sum()['Quantity Ordered']\n",
        "result"
      ],
      "execution_count":0,
      "outputs":[
        {
          "data":{
            "text\/plain":[
              "City\n",
              "Atlanta GA          16602\n",
              "Austin TX           11153\n",
              "Boston MA           22528\n",
              "Dallas TX           16730\n",
              "Los Angeles CA      33289\n",
              "New York City NY    27932\n",
              "Portland ME          2750\n",
              "Portland OR         11303\n",
              "San Francisco CA    50239\n",
              "Seattle WA          16553\n",
              "Name: Quantity Ordered, dtype: int64"
            ]
          },
          "metadata":{
            
          },
          "output_type":"display_data"
        }
      ],
      "metadata":{
        
      }
    },
    {
      "cell_type":"code",
      "source":[
        "df[df['City'] == 'San Francisco CA'].groupby('Product').sum()['Quantity Ordered'].sort_values(ascending=False)[:1]"
      ],
      "execution_count":0,
      "outputs":[
        {
          "data":{
            "text\/plain":[
              "Product\n",
              "AAA Batteries (4-pack)    7408\n",
              "Name: Quantity Ordered, dtype: int64"
            ]
          },
          "metadata":{
            
          },
          "output_type":"display_data"
        }
      ],
      "metadata":{
        
      }
    },
    {
      "cell_type":"code",
      "source":[
        "cities = result.index\n",
        "\n",
        "plt.bar(cities, result)\n",
        "plt.xticks(cities, rotation = 'vertical')\n",
        "plt.xlabel('Cities')\n",
        "plt.ylabel('Quantity Ordered')\n",
        "plt.show()"
      ],
      "execution_count":0,
      "outputs":[
        {
          "data":{
            "image\/png":"[encoded data removed]"
          },
          "metadata":{
            "image\/png":{
              "width":0,
              "height":0
            }
          },
          "output_type":"display_data"
        }
      ],
      "metadata":{
        
      }
    },
    {
      "cell_type":"markdown",
      "source":[
        "##  What time should we display advertisements to maximize the likelihood of purchases?\n",
        "\n",
        "- Most purchases are made at 11-12 am and 19 PM.\n",
        "\n",
        "- Least purchases are made at night and at lunchtime.\n",
        "\n",
        "\n",
        "So, depending on the goals, there can be two strategies:\n",
        "1. increase the purchase amount at lunchtime - > more ads from 14 to 17\n",
        "2. increase the purchase amount during \"Prime time shopping\" - > at 11-12 am and 19 PM"
      ],
      "metadata":{
        
      }
    },
    {
      "cell_type":"code",
      "source":[
        "df"
      ],
      "execution_count":0,
      "outputs":[
        {
          "data":{
            "text\/html":[
              "<div>\n",
              "<style scoped>\n",
              "    .dataframe tbody tr th:only-of-type {\n",
              "        vertical-align: middle;\n",
              "    }\n",
              "\n",
              "    .dataframe tbody tr th {\n",
              "        vertical-align: top;\n",
              "    }\n",
              "\n",
              "    .dataframe thead th {\n",
              "        text-align: right;\n",
              "    }\n",
              "<\/style>\n",
              "<table border=\"1\" class=\"dataframe\">\n",
              "  <thead>\n",
              "    <tr style=\"text-align: right;\">\n",
              "      <th><\/th>\n",
              "      <th>Order ID<\/th>\n",
              "      <th>Product<\/th>\n",
              "      <th>Quantity Ordered<\/th>\n",
              "      <th>Price Each<\/th>\n",
              "      <th>Order Date<\/th>\n",
              "      <th>Purchase Address<\/th>\n",
              "      <th>Order Month<\/th>\n",
              "      <th>Price total<\/th>\n",
              "      <th>City<\/th>\n",
              "    <\/tr>\n",
              "  <\/thead>\n",
              "  <tbody>\n",
              "    <tr>\n",
              "      <th>0<\/th>\n",
              "      <td>209921<\/td>\n",
              "      <td>USB-C Charging Cable<\/td>\n",
              "      <td>1<\/td>\n",
              "      <td>11.95<\/td>\n",
              "      <td>2019-06-23 19:34:00<\/td>\n",
              "      <td>950 Walnut St, Portland, ME 04101<\/td>\n",
              "      <td>6<\/td>\n",
              "      <td>11.95<\/td>\n",
              "      <td>Portland ME<\/td>\n",
              "    <\/tr>\n",
              "    <tr>\n",
              "      <th>1<\/th>\n",
              "      <td>209922<\/td>\n",
              "      <td>Macbook Pro Laptop<\/td>\n",
              "      <td>1<\/td>\n",
              "      <td>1700.00<\/td>\n",
              "      <td>2019-06-30 10:05:00<\/td>\n",
              "      <td>80 4th St, San Francisco, CA 94016<\/td>\n",
              "      <td>6<\/td>\n",
              "      <td>1700.00<\/td>\n",
              "      <td>San Francisco CA<\/td>\n",
              "    <\/tr>\n",
              "    <tr>\n",
              "      <th>2<\/th>\n",
              "      <td>209923<\/td>\n",
              "      <td>ThinkPad Laptop<\/td>\n",
              "      <td>1<\/td>\n",
              "      <td>999.99<\/td>\n",
              "      <td>2019-06-24 20:18:00<\/td>\n",
              "      <td>402 Jackson St, Los Angeles, CA 90001<\/td>\n",
              "      <td>6<\/td>\n",
              "      <td>999.99<\/td>\n",
              "      <td>Los Angeles CA<\/td>\n",
              "    <\/tr>\n",
              "    <tr>\n",
              "      <th>3<\/th>\n",
              "      <td>209924<\/td>\n",
              "      <td>27in FHD Monitor<\/td>\n",
              "      <td>1<\/td>\n",
              "      <td>149.99<\/td>\n",
              "      <td>2019-06-05 10:21:00<\/td>\n",
              "      <td>560 10th St, Seattle, WA 98101<\/td>\n",
              "      <td>6<\/td>\n",
              "      <td>149.99<\/td>\n",
              "      <td>Seattle WA<\/td>\n",
              "    <\/tr>\n",
              "    <tr>\n",
              "      <th>4<\/th>\n",
              "      <td>209925<\/td>\n",
              "      <td>Bose SoundSport Headphones<\/td>\n",
              "      <td>1<\/td>\n",
              "      <td>99.99<\/td>\n",
              "      <td>2019-06-25 18:58:00<\/td>\n",
              "      <td>545 2nd St, San Francisco, CA 94016<\/td>\n",
              "      <td>6<\/td>\n",
              "      <td>99.99<\/td>\n",
              "      <td>San Francisco CA<\/td>\n",
              "    <\/tr>\n",
              "    <tr>\n",
              "      <th>...<\/th>\n",
              "      <td>...<\/td>\n",
              "      <td>...<\/td>\n",
              "      <td>...<\/td>\n",
              "      <td>...<\/td>\n",
              "      <td>...<\/td>\n",
              "      <td>...<\/td>\n",
              "      <td>...<\/td>\n",
              "      <td>...<\/td>\n",
              "      <td>...<\/td>\n",
              "    <\/tr>\n",
              "    <tr>\n",
              "      <th>186845<\/th>\n",
              "      <td>278792<\/td>\n",
              "      <td>AA Batteries (4-pack)<\/td>\n",
              "      <td>1<\/td>\n",
              "      <td>3.84<\/td>\n",
              "      <td>2019-10-12 04:32:00<\/td>\n",
              "      <td>920 Adams St, San Francisco, CA 94016<\/td>\n",
              "      <td>10<\/td>\n",
              "      <td>3.84<\/td>\n",
              "      <td>San Francisco CA<\/td>\n",
              "    <\/tr>\n",
              "    <tr>\n",
              "      <th>186846<\/th>\n",
              "      <td>278793<\/td>\n",
              "      <td>Wired Headphones<\/td>\n",
              "      <td>1<\/td>\n",
              "      <td>11.99<\/td>\n",
              "      <td>2019-10-28 22:00:00<\/td>\n",
              "      <td>161 Chestnut St, Los Angeles, CA 90001<\/td>\n",
              "      <td>10<\/td>\n",
              "      <td>11.99<\/td>\n",
              "      <td>Los Angeles CA<\/td>\n",
              "    <\/tr>\n",
              "    <tr>\n",
              "      <th>186847<\/th>\n",
              "      <td>278794<\/td>\n",
              "      <td>AA Batteries (4-pack)<\/td>\n",
              "      <td>1<\/td>\n",
              "      <td>3.84<\/td>\n",
              "      <td>2019-10-09 20:58:00<\/td>\n",
              "      <td>346 Spruce St, San Francisco, CA 94016<\/td>\n",
              "      <td>10<\/td>\n",
              "      <td>3.84<\/td>\n",
              "      <td>San Francisco CA<\/td>\n",
              "    <\/tr>\n",
              "    <tr>\n",
              "      <th>186848<\/th>\n",
              "      <td>278795<\/td>\n",
              "      <td>iPhone<\/td>\n",
              "      <td>1<\/td>\n",
              "      <td>700.00<\/td>\n",
              "      <td>2019-10-31 17:21:00<\/td>\n",
              "      <td>291 Hill St, Seattle, WA 98101<\/td>\n",
              "      <td>10<\/td>\n",
              "      <td>700.00<\/td>\n",
              "      <td>Seattle WA<\/td>\n",
              "    <\/tr>\n",
              "    <tr>\n",
              "      <th>186849<\/th>\n",
              "      <td>278796<\/td>\n",
              "      <td>Wired Headphones<\/td>\n",
              "      <td>1<\/td>\n",
              "      <td>11.99<\/td>\n",
              "      <td>2019-10-13 11:20:00<\/td>\n",
              "      <td>547 Jefferson St, Los Angeles, CA 90001<\/td>\n",
              "      <td>10<\/td>\n",
              "      <td>11.99<\/td>\n",
              "      <td>Los Angeles CA<\/td>\n",
              "    <\/tr>\n",
              "  <\/tbody>\n",
              "<\/table>\n",
              "<p>185950 rows × 9 columns<\/p>\n",
              "<\/div>"
            ]
          },
          "metadata":{
            
          },
          "output_type":"display_data"
        }
      ],
      "metadata":{
        
      }
    },
    {
      "cell_type":"code",
      "source":[
        "result = df.groupby(df['Order Date'].dt.hour).count()['Order ID']\n",
        "result"
      ],
      "execution_count":0,
      "outputs":[
        {
          "data":{
            "text\/plain":[
              "Order Date\n",
              "0      3910\n",
              "1      2350\n",
              "2      1243\n",
              "3       831\n",
              "4       854\n",
              "5      1321\n",
              "6      2482\n",
              "7      4011\n",
              "8      6256\n",
              "9      8748\n",
              "10    10944\n",
              "11    12411\n",
              "12    12587\n",
              "13    12129\n",
              "14    10984\n",
              "15    10175\n",
              "16    10384\n",
              "17    10899\n",
              "18    12280\n",
              "19    12905\n",
              "20    12228\n",
              "21    10921\n",
              "22     8822\n",
              "23     6275\n",
              "Name: Order ID, dtype: int64"
            ]
          },
          "metadata":{
            
          },
          "output_type":"display_data"
        }
      ],
      "metadata":{
        
      }
    },
    {
      "cell_type":"code",
      "source":[
        "hours = range(0, 24)\n",
        "\n",
        "plt.plot(hours, result)\n",
        "plt.xticks(hours)\n",
        "plt.grid()\n",
        "plt.show()"
      ],
      "execution_count":0,
      "outputs":[
        {
          "data":{
            "image\/png":"[encoded data removed]"
          },
          "metadata":{
            "image\/png":{
              "width":0,
              "height":0
            }
          },
          "output_type":"display_data"
        }
      ],
      "metadata":{
        
      }
    },
    {
      "cell_type":"markdown",
      "source":[
        "## What products are most often sold together? \n",
        "\n",
        "\n",
        "1. ('iPhone', 'Lightning Charging Cable') 1005\n",
        "2. ('Google Phone', 'USB-C Charging Cable') 987"
      ],
      "metadata":{
        
      }
    },
    {
      "cell_type":"code",
      "source":[
        "df"
      ],
      "execution_count":0,
      "outputs":[
        {
          "data":{
            "text\/html":[
              "<div>\n",
              "<style scoped>\n",
              "    .dataframe tbody tr th:only-of-type {\n",
              "        vertical-align: middle;\n",
              "    }\n",
              "\n",
              "    .dataframe tbody tr th {\n",
              "        vertical-align: top;\n",
              "    }\n",
              "\n",
              "    .dataframe thead th {\n",
              "        text-align: right;\n",
              "    }\n",
              "<\/style>\n",
              "<table border=\"1\" class=\"dataframe\">\n",
              "  <thead>\n",
              "    <tr style=\"text-align: right;\">\n",
              "      <th><\/th>\n",
              "      <th>Order ID<\/th>\n",
              "      <th>Product<\/th>\n",
              "      <th>Quantity Ordered<\/th>\n",
              "      <th>Price Each<\/th>\n",
              "      <th>Order Date<\/th>\n",
              "      <th>Purchase Address<\/th>\n",
              "      <th>Order Month<\/th>\n",
              "      <th>Price total<\/th>\n",
              "      <th>City<\/th>\n",
              "    <\/tr>\n",
              "  <\/thead>\n",
              "  <tbody>\n",
              "    <tr>\n",
              "      <th>0<\/th>\n",
              "      <td>209921<\/td>\n",
              "      <td>USB-C Charging Cable<\/td>\n",
              "      <td>1<\/td>\n",
              "      <td>11.95<\/td>\n",
              "      <td>2019-06-23 19:34:00<\/td>\n",
              "      <td>950 Walnut St, Portland, ME 04101<\/td>\n",
              "      <td>6<\/td>\n",
              "      <td>11.95<\/td>\n",
              "      <td>Portland ME<\/td>\n",
              "    <\/tr>\n",
              "    <tr>\n",
              "      <th>1<\/th>\n",
              "      <td>209922<\/td>\n",
              "      <td>Macbook Pro Laptop<\/td>\n",
              "      <td>1<\/td>\n",
              "      <td>1700.00<\/td>\n",
              "      <td>2019-06-30 10:05:00<\/td>\n",
              "      <td>80 4th St, San Francisco, CA 94016<\/td>\n",
              "      <td>6<\/td>\n",
              "      <td>1700.00<\/td>\n",
              "      <td>San Francisco CA<\/td>\n",
              "    <\/tr>\n",
              "    <tr>\n",
              "      <th>2<\/th>\n",
              "      <td>209923<\/td>\n",
              "      <td>ThinkPad Laptop<\/td>\n",
              "      <td>1<\/td>\n",
              "      <td>999.99<\/td>\n",
              "      <td>2019-06-24 20:18:00<\/td>\n",
              "      <td>402 Jackson St, Los Angeles, CA 90001<\/td>\n",
              "      <td>6<\/td>\n",
              "      <td>999.99<\/td>\n",
              "      <td>Los Angeles CA<\/td>\n",
              "    <\/tr>\n",
              "    <tr>\n",
              "      <th>3<\/th>\n",
              "      <td>209924<\/td>\n",
              "      <td>27in FHD Monitor<\/td>\n",
              "      <td>1<\/td>\n",
              "      <td>149.99<\/td>\n",
              "      <td>2019-06-05 10:21:00<\/td>\n",
              "      <td>560 10th St, Seattle, WA 98101<\/td>\n",
              "      <td>6<\/td>\n",
              "      <td>149.99<\/td>\n",
              "      <td>Seattle WA<\/td>\n",
              "    <\/tr>\n",
              "    <tr>\n",
              "      <th>4<\/th>\n",
              "      <td>209925<\/td>\n",
              "      <td>Bose SoundSport Headphones<\/td>\n",
              "      <td>1<\/td>\n",
              "      <td>99.99<\/td>\n",
              "      <td>2019-06-25 18:58:00<\/td>\n",
              "      <td>545 2nd St, San Francisco, CA 94016<\/td>\n",
              "      <td>6<\/td>\n",
              "      <td>99.99<\/td>\n",
              "      <td>San Francisco CA<\/td>\n",
              "    <\/tr>\n",
              "    <tr>\n",
              "      <th>...<\/th>\n",
              "      <td>...<\/td>\n",
              "      <td>...<\/td>\n",
              "      <td>...<\/td>\n",
              "      <td>...<\/td>\n",
              "      <td>...<\/td>\n",
              "      <td>...<\/td>\n",
              "      <td>...<\/td>\n",
              "      <td>...<\/td>\n",
              "      <td>...<\/td>\n",
              "    <\/tr>\n",
              "    <tr>\n",
              "      <th>186845<\/th>\n",
              "      <td>278792<\/td>\n",
              "      <td>AA Batteries (4-pack)<\/td>\n",
              "      <td>1<\/td>\n",
              "      <td>3.84<\/td>\n",
              "      <td>2019-10-12 04:32:00<\/td>\n",
              "      <td>920 Adams St, San Francisco, CA 94016<\/td>\n",
              "      <td>10<\/td>\n",
              "      <td>3.84<\/td>\n",
              "      <td>San Francisco CA<\/td>\n",
              "    <\/tr>\n",
              "    <tr>\n",
              "      <th>186846<\/th>\n",
              "      <td>278793<\/td>\n",
              "      <td>Wired Headphones<\/td>\n",
              "      <td>1<\/td>\n",
              "      <td>11.99<\/td>\n",
              "      <td>2019-10-28 22:00:00<\/td>\n",
              "      <td>161 Chestnut St, Los Angeles, CA 90001<\/td>\n",
              "      <td>10<\/td>\n",
              "      <td>11.99<\/td>\n",
              "      <td>Los Angeles CA<\/td>\n",
              "    <\/tr>\n",
              "    <tr>\n",
              "      <th>186847<\/th>\n",
              "      <td>278794<\/td>\n",
              "      <td>AA Batteries (4-pack)<\/td>\n",
              "      <td>1<\/td>\n",
              "      <td>3.84<\/td>\n",
              "      <td>2019-10-09 20:58:00<\/td>\n",
              "      <td>346 Spruce St, San Francisco, CA 94016<\/td>\n",
              "      <td>10<\/td>\n",
              "      <td>3.84<\/td>\n",
              "      <td>San Francisco CA<\/td>\n",
              "    <\/tr>\n",
              "    <tr>\n",
              "      <th>186848<\/th>\n",
              "      <td>278795<\/td>\n",
              "      <td>iPhone<\/td>\n",
              "      <td>1<\/td>\n",
              "      <td>700.00<\/td>\n",
              "      <td>2019-10-31 17:21:00<\/td>\n",
              "      <td>291 Hill St, Seattle, WA 98101<\/td>\n",
              "      <td>10<\/td>\n",
              "      <td>700.00<\/td>\n",
              "      <td>Seattle WA<\/td>\n",
              "    <\/tr>\n",
              "    <tr>\n",
              "      <th>186849<\/th>\n",
              "      <td>278796<\/td>\n",
              "      <td>Wired Headphones<\/td>\n",
              "      <td>1<\/td>\n",
              "      <td>11.99<\/td>\n",
              "      <td>2019-10-13 11:20:00<\/td>\n",
              "      <td>547 Jefferson St, Los Angeles, CA 90001<\/td>\n",
              "      <td>10<\/td>\n",
              "      <td>11.99<\/td>\n",
              "      <td>Los Angeles CA<\/td>\n",
              "    <\/tr>\n",
              "  <\/tbody>\n",
              "<\/table>\n",
              "<p>185950 rows × 9 columns<\/p>\n",
              "<\/div>"
            ]
          },
          "metadata":{
            
          },
          "output_type":"display_data"
        }
      ],
      "metadata":{
        
      }
    },
    {
      "cell_type":"code",
      "source":[
        "df.Product.unique()"
      ],
      "execution_count":0,
      "outputs":[
        {
          "data":{
            "text\/plain":[
              "array(['USB-C Charging Cable', 'Macbook Pro Laptop', 'ThinkPad Laptop', '27in FHD Monitor', 'Bose SoundSport Headphones', 'Apple Airpods Headphones', 'Lightning Charging Cable', 'Wired Headphones', 'Flatscreen TV', 'AA Batteries (4-pack)', 'AAA Batteries (4-pack)', '34in Ultrawide Monitor', 'iPhone', 'Google Phone', '27in 4K Gaming Monitor', '20in Monitor', 'LG Dryer', 'Vareebadd Phone', 'LG Washing Machine'], dtype=object)"
            ]
          },
          "metadata":{
            
          },
          "output_type":"display_data"
        }
      ],
      "metadata":{
        
      }
    },
    {
      "cell_type":"code",
      "source":[
        "df_products = df[df['Order ID'].duplicated(keep=False)]\n",
        "df_products['Product list'] = df_products.groupby('Order ID')['Product'].agg(lambda x : list(x))\n",
        "\n",
        "df_products\n",
        "\n",
        "# df_products = df_products[['Order ID', 'Product list']].drop_duplicates()\n",
        "# df_products"
      ],
      "execution_count":0,
      "outputs":[
        {
          "name":"stderr",
          "text":[
            "\/opt\/datalore\/python\/datalore\/core\/evaluation_engine\/evaluation_process.py:2: SettingWithCopyWarning: \n",
            "A value is trying to be set on a copy of a slice from a DataFrame.\n",
            "Try using .loc[row_indexer,col_indexer] = value instead\n",
            "\n",
            "See the caveats in the documentation: https:\/\/pandas.pydata.org\/pandas-docs\/stable\/user_guide\/indexing.html#returning-a-view-versus-a-copy\n",
            "  import re\n"
          ],
          "output_type":"stream"
        },
        {
          "data":{
            "text\/html":[
              "<div>\n",
              "<style scoped>\n",
              "    .dataframe tbody tr th:only-of-type {\n",
              "        vertical-align: middle;\n",
              "    }\n",
              "\n",
              "    .dataframe tbody tr th {\n",
              "        vertical-align: top;\n",
              "    }\n",
              "\n",
              "    .dataframe thead th {\n",
              "        text-align: right;\n",
              "    }\n",
              "<\/style>\n",
              "<table border=\"1\" class=\"dataframe\">\n",
              "  <thead>\n",
              "    <tr style=\"text-align: right;\">\n",
              "      <th><\/th>\n",
              "      <th>Order ID<\/th>\n",
              "      <th>Product<\/th>\n",
              "      <th>Quantity Ordered<\/th>\n",
              "      <th>Price Each<\/th>\n",
              "      <th>Order Date<\/th>\n",
              "      <th>Purchase Address<\/th>\n",
              "      <th>Order Month<\/th>\n",
              "      <th>Price total<\/th>\n",
              "      <th>City<\/th>\n",
              "      <th>Product list<\/th>\n",
              "    <\/tr>\n",
              "  <\/thead>\n",
              "  <tbody>\n",
              "    <tr>\n",
              "      <th>17<\/th>\n",
              "      <td>209938<\/td>\n",
              "      <td>iPhone<\/td>\n",
              "      <td>1<\/td>\n",
              "      <td>700.00<\/td>\n",
              "      <td>2019-06-15 12:29:00<\/td>\n",
              "      <td>766 Meadow St, Seattle, WA 98101<\/td>\n",
              "      <td>6<\/td>\n",
              "      <td>700.00<\/td>\n",
              "      <td>Seattle WA<\/td>\n",
              "      <td>NaN<\/td>\n",
              "    <\/tr>\n",
              "    <tr>\n",
              "      <th>18<\/th>\n",
              "      <td>209938<\/td>\n",
              "      <td>Wired Headphones<\/td>\n",
              "      <td>1<\/td>\n",
              "      <td>11.99<\/td>\n",
              "      <td>2019-06-15 12:29:00<\/td>\n",
              "      <td>766 Meadow St, Seattle, WA 98101<\/td>\n",
              "      <td>6<\/td>\n",
              "      <td>11.99<\/td>\n",
              "      <td>Seattle WA<\/td>\n",
              "      <td>NaN<\/td>\n",
              "    <\/tr>\n",
              "    <tr>\n",
              "      <th>29<\/th>\n",
              "      <td>209949<\/td>\n",
              "      <td>Google Phone<\/td>\n",
              "      <td>1<\/td>\n",
              "      <td>600.00<\/td>\n",
              "      <td>2019-06-23 07:45:00<\/td>\n",
              "      <td>637 12th St, San Francisco, CA 94016<\/td>\n",
              "      <td>6<\/td>\n",
              "      <td>600.00<\/td>\n",
              "      <td>San Francisco CA<\/td>\n",
              "      <td>NaN<\/td>\n",
              "    <\/tr>\n",
              "    <tr>\n",
              "      <th>30<\/th>\n",
              "      <td>209949<\/td>\n",
              "      <td>USB-C Charging Cable<\/td>\n",
              "      <td>1<\/td>\n",
              "      <td>11.95<\/td>\n",
              "      <td>2019-06-23 07:45:00<\/td>\n",
              "      <td>637 12th St, San Francisco, CA 94016<\/td>\n",
              "      <td>6<\/td>\n",
              "      <td>11.95<\/td>\n",
              "      <td>San Francisco CA<\/td>\n",
              "      <td>NaN<\/td>\n",
              "    <\/tr>\n",
              "    <tr>\n",
              "      <th>41<\/th>\n",
              "      <td>209960<\/td>\n",
              "      <td>USB-C Charging Cable<\/td>\n",
              "      <td>1<\/td>\n",
              "      <td>11.95<\/td>\n",
              "      <td>2019-06-22 11:53:00<\/td>\n",
              "      <td>333 Sunset St, Dallas, TX 75001<\/td>\n",
              "      <td>6<\/td>\n",
              "      <td>11.95<\/td>\n",
              "      <td>Dallas TX<\/td>\n",
              "      <td>NaN<\/td>\n",
              "    <\/tr>\n",
              "    <tr>\n",
              "      <th>...<\/th>\n",
              "      <td>...<\/td>\n",
              "      <td>...<\/td>\n",
              "      <td>...<\/td>\n",
              "      <td>...<\/td>\n",
              "      <td>...<\/td>\n",
              "      <td>...<\/td>\n",
              "      <td>...<\/td>\n",
              "      <td>...<\/td>\n",
              "      <td>...<\/td>\n",
              "      <td>...<\/td>\n",
              "    <\/tr>\n",
              "    <tr>\n",
              "      <th>186756<\/th>\n",
              "      <td>278706<\/td>\n",
              "      <td>USB-C Charging Cable<\/td>\n",
              "      <td>1<\/td>\n",
              "      <td>11.95<\/td>\n",
              "      <td>2019-10-07 18:18:00<\/td>\n",
              "      <td>942 11th St, San Francisco, CA 94016<\/td>\n",
              "      <td>10<\/td>\n",
              "      <td>11.95<\/td>\n",
              "      <td>San Francisco CA<\/td>\n",
              "      <td>NaN<\/td>\n",
              "    <\/tr>\n",
              "    <tr>\n",
              "      <th>186760<\/th>\n",
              "      <td>278710<\/td>\n",
              "      <td>USB-C Charging Cable<\/td>\n",
              "      <td>1<\/td>\n",
              "      <td>11.95<\/td>\n",
              "      <td>2019-10-13 19:05:00<\/td>\n",
              "      <td>183 5th St, San Francisco, CA 94016<\/td>\n",
              "      <td>10<\/td>\n",
              "      <td>11.95<\/td>\n",
              "      <td>San Francisco CA<\/td>\n",
              "      <td>NaN<\/td>\n",
              "    <\/tr>\n",
              "    <tr>\n",
              "      <th>186761<\/th>\n",
              "      <td>278710<\/td>\n",
              "      <td>27in FHD Monitor<\/td>\n",
              "      <td>1<\/td>\n",
              "      <td>149.99<\/td>\n",
              "      <td>2019-10-13 19:05:00<\/td>\n",
              "      <td>183 5th St, San Francisco, CA 94016<\/td>\n",
              "      <td>10<\/td>\n",
              "      <td>149.99<\/td>\n",
              "      <td>San Francisco CA<\/td>\n",
              "      <td>NaN<\/td>\n",
              "    <\/tr>\n",
              "    <tr>\n",
              "      <th>186769<\/th>\n",
              "      <td>278718<\/td>\n",
              "      <td>USB-C Charging Cable<\/td>\n",
              "      <td>1<\/td>\n",
              "      <td>11.95<\/td>\n",
              "      <td>2019-10-13 12:45:00<\/td>\n",
              "      <td>479 Lincoln St, Atlanta, GA 30301<\/td>\n",
              "      <td>10<\/td>\n",
              "      <td>11.95<\/td>\n",
              "      <td>Atlanta GA<\/td>\n",
              "      <td>NaN<\/td>\n",
              "    <\/tr>\n",
              "    <tr>\n",
              "      <th>186770<\/th>\n",
              "      <td>278718<\/td>\n",
              "      <td>Bose SoundSport Headphones<\/td>\n",
              "      <td>1<\/td>\n",
              "      <td>99.99<\/td>\n",
              "      <td>2019-10-13 12:45:00<\/td>\n",
              "      <td>479 Lincoln St, Atlanta, GA 30301<\/td>\n",
              "      <td>10<\/td>\n",
              "      <td>99.99<\/td>\n",
              "      <td>Atlanta GA<\/td>\n",
              "      <td>NaN<\/td>\n",
              "    <\/tr>\n",
              "  <\/tbody>\n",
              "<\/table>\n",
              "<p>14649 rows × 10 columns<\/p>\n",
              "<\/div>"
            ]
          },
          "metadata":{
            
          },
          "output_type":"display_data"
        }
      ],
      "metadata":{
        
      }
    },
    {
      "cell_type":"code",
      "source":[
        "product_list_df = df_products.groupby('Order ID')['Product'].agg(lambda x : list(x)).reset_index()\n",
        "product_list_df"
      ],
      "execution_count":0,
      "outputs":[
        {
          "data":{
            "text\/html":[
              "<div>\n",
              "<style scoped>\n",
              "    .dataframe tbody tr th:only-of-type {\n",
              "        vertical-align: middle;\n",
              "    }\n",
              "\n",
              "    .dataframe tbody tr th {\n",
              "        vertical-align: top;\n",
              "    }\n",
              "\n",
              "    .dataframe thead th {\n",
              "        text-align: right;\n",
              "    }\n",
              "<\/style>\n",
              "<table border=\"1\" class=\"dataframe\">\n",
              "  <thead>\n",
              "    <tr style=\"text-align: right;\">\n",
              "      <th><\/th>\n",
              "      <th>Order ID<\/th>\n",
              "      <th>Product<\/th>\n",
              "    <\/tr>\n",
              "  <\/thead>\n",
              "  <tbody>\n",
              "    <tr>\n",
              "      <th>0<\/th>\n",
              "      <td>141275<\/td>\n",
              "      <td>[USB-C Charging Cable, Wired Headphones]<\/td>\n",
              "    <\/tr>\n",
              "    <tr>\n",
              "      <th>1<\/th>\n",
              "      <td>141290<\/td>\n",
              "      <td>[Apple Airpods Headphones, AA Batteries (4-pack)]<\/td>\n",
              "    <\/tr>\n",
              "    <tr>\n",
              "      <th>2<\/th>\n",
              "      <td>141365<\/td>\n",
              "      <td>[Vareebadd Phone, Wired Headphones]<\/td>\n",
              "    <\/tr>\n",
              "    <tr>\n",
              "      <th>3<\/th>\n",
              "      <td>141384<\/td>\n",
              "      <td>[Google Phone, USB-C Charging Cable]<\/td>\n",
              "    <\/tr>\n",
              "    <tr>\n",
              "      <th>4<\/th>\n",
              "      <td>141450<\/td>\n",
              "      <td>[Google Phone, Bose SoundSport Headphones]<\/td>\n",
              "    <\/tr>\n",
              "    <tr>\n",
              "      <th>...<\/th>\n",
              "      <td>...<\/td>\n",
              "      <td>...<\/td>\n",
              "    <\/tr>\n",
              "    <tr>\n",
              "      <th>7131<\/th>\n",
              "      <td>319536<\/td>\n",
              "      <td>[Macbook Pro Laptop, Wired Headphones]<\/td>\n",
              "    <\/tr>\n",
              "    <tr>\n",
              "      <th>7132<\/th>\n",
              "      <td>319556<\/td>\n",
              "      <td>[Google Phone, Wired Headphones]<\/td>\n",
              "    <\/tr>\n",
              "    <tr>\n",
              "      <th>7133<\/th>\n",
              "      <td>319584<\/td>\n",
              "      <td>[iPhone, Wired Headphones]<\/td>\n",
              "    <\/tr>\n",
              "    <tr>\n",
              "      <th>7134<\/th>\n",
              "      <td>319596<\/td>\n",
              "      <td>[iPhone, Lightning Charging Cable]<\/td>\n",
              "    <\/tr>\n",
              "    <tr>\n",
              "      <th>7135<\/th>\n",
              "      <td>319631<\/td>\n",
              "      <td>[34in Ultrawide Monitor, Lightning Charging Ca...<\/td>\n",
              "    <\/tr>\n",
              "  <\/tbody>\n",
              "<\/table>\n",
              "<p>7136 rows × 2 columns<\/p>\n",
              "<\/div>"
            ]
          },
          "metadata":{
            
          },
          "output_type":"display_data"
        }
      ],
      "metadata":{
        
      }
    },
    {
      "cell_type":"code",
      "source":[
        "d = pd.DataFrame(0, index=np.arange(len(df.Product.unique())), columns=df.Product.unique())\n",
        "d.set_index(df.Product.unique(), inplace=True)\n"
      ],
      "execution_count":0,
      "outputs":[
        
      ],
      "metadata":{
        
      }
    },
    {
      "cell_type":"code",
      "source":[
        "for l in  product_list_df['Product']:\n",
        "    for product in l:\n",
        "        for other_product in l:\n",
        "            if product != other_product:\n",
        "                d.loc[product][other_product] += 1\n",
        "        \n",
        "            "
      ],
      "execution_count":0,
      "outputs":[
        
      ],
      "metadata":{
        
      }
    },
    {
      "cell_type":"code",
      "source":[
        "d"
      ],
      "execution_count":0,
      "outputs":[
        {
          "data":{
            "text\/html":[
              "<div>\n",
              "<style scoped>\n",
              "    .dataframe tbody tr th:only-of-type {\n",
              "        vertical-align: middle;\n",
              "    }\n",
              "\n",
              "    .dataframe tbody tr th {\n",
              "        vertical-align: top;\n",
              "    }\n",
              "\n",
              "    .dataframe thead th {\n",
              "        text-align: right;\n",
              "    }\n",
              "<\/style>\n",
              "<table border=\"1\" class=\"dataframe\">\n",
              "  <thead>\n",
              "    <tr style=\"text-align: right;\">\n",
              "      <th><\/th>\n",
              "      <th>USB-C Charging Cable<\/th>\n",
              "      <th>Macbook Pro Laptop<\/th>\n",
              "      <th>ThinkPad Laptop<\/th>\n",
              "      <th>27in FHD Monitor<\/th>\n",
              "      <th>Bose SoundSport Headphones<\/th>\n",
              "      <th>Apple Airpods Headphones<\/th>\n",
              "      <th>Lightning Charging Cable<\/th>\n",
              "      <th>Wired Headphones<\/th>\n",
              "      <th>Flatscreen TV<\/th>\n",
              "      <th>AA Batteries (4-pack)<\/th>\n",
              "      <th>AAA Batteries (4-pack)<\/th>\n",
              "      <th>34in Ultrawide Monitor<\/th>\n",
              "      <th>iPhone<\/th>\n",
              "      <th>Google Phone<\/th>\n",
              "      <th>27in 4K Gaming Monitor<\/th>\n",
              "      <th>20in Monitor<\/th>\n",
              "      <th>LG Dryer<\/th>\n",
              "      <th>Vareebadd Phone<\/th>\n",
              "      <th>LG Washing Machine<\/th>\n",
              "    <\/tr>\n",
              "  <\/thead>\n",
              "  <tbody>\n",
              "    <tr>\n",
              "      <th>USB-C Charging Cable<\/th>\n",
              "      <td>0<\/td>\n",
              "      <td>21<\/td>\n",
              "      <td>20<\/td>\n",
              "      <td>43<\/td>\n",
              "      <td>102<\/td>\n",
              "      <td>63<\/td>\n",
              "      <td>100<\/td>\n",
              "      <td>205<\/td>\n",
              "      <td>17<\/td>\n",
              "      <td>75<\/td>\n",
              "      <td>95<\/td>\n",
              "      <td>26<\/td>\n",
              "      <td>29<\/td>\n",
              "      <td>999<\/td>\n",
              "      <td>23<\/td>\n",
              "      <td>25<\/td>\n",
              "      <td>1<\/td>\n",
              "      <td>368<\/td>\n",
              "      <td>0<\/td>\n",
              "    <\/tr>\n",
              "    <tr>\n",
              "      <th>Macbook Pro Laptop<\/th>\n",
              "      <td>21<\/td>\n",
              "      <td>0<\/td>\n",
              "      <td>5<\/td>\n",
              "      <td>9<\/td>\n",
              "      <td>15<\/td>\n",
              "      <td>19<\/td>\n",
              "      <td>21<\/td>\n",
              "      <td>20<\/td>\n",
              "      <td>5<\/td>\n",
              "      <td>17<\/td>\n",
              "      <td>18<\/td>\n",
              "      <td>7<\/td>\n",
              "      <td>6<\/td>\n",
              "      <td>7<\/td>\n",
              "      <td>13<\/td>\n",
              "      <td>6<\/td>\n",
              "      <td>0<\/td>\n",
              "      <td>0<\/td>\n",
              "      <td>2<\/td>\n",
              "    <\/tr>\n",
              "    <tr>\n",
              "      <th>ThinkPad Laptop<\/th>\n",
              "      <td>20<\/td>\n",
              "      <td>5<\/td>\n",
              "      <td>0<\/td>\n",
              "      <td>6<\/td>\n",
              "      <td>13<\/td>\n",
              "      <td>16<\/td>\n",
              "      <td>20<\/td>\n",
              "      <td>14<\/td>\n",
              "      <td>6<\/td>\n",
              "      <td>17<\/td>\n",
              "      <td>27<\/td>\n",
              "      <td>4<\/td>\n",
              "      <td>7<\/td>\n",
              "      <td>6<\/td>\n",
              "      <td>5<\/td>\n",
              "      <td>2<\/td>\n",
              "      <td>1<\/td>\n",
              "      <td>3<\/td>\n",
              "      <td>0<\/td>\n",
              "    <\/tr>\n",
              "    <tr>\n",
              "      <th>27in FHD Monitor<\/th>\n",
              "      <td>43<\/td>\n",
              "      <td>9<\/td>\n",
              "      <td>6<\/td>\n",
              "      <td>0<\/td>\n",
              "      <td>26<\/td>\n",
              "      <td>24<\/td>\n",
              "      <td>36<\/td>\n",
              "      <td>22<\/td>\n",
              "      <td>6<\/td>\n",
              "      <td>26<\/td>\n",
              "      <td>43<\/td>\n",
              "      <td>10<\/td>\n",
              "      <td>2<\/td>\n",
              "      <td>8<\/td>\n",
              "      <td>8<\/td>\n",
              "      <td>5<\/td>\n",
              "      <td>3<\/td>\n",
              "      <td>2<\/td>\n",
              "      <td>1<\/td>\n",
              "    <\/tr>\n",
              "    <tr>\n",
              "      <th>Bose SoundSport Headphones<\/th>\n",
              "      <td>102<\/td>\n",
              "      <td>15<\/td>\n",
              "      <td>13<\/td>\n",
              "      <td>26<\/td>\n",
              "      <td>0<\/td>\n",
              "      <td>50<\/td>\n",
              "      <td>72<\/td>\n",
              "      <td>74<\/td>\n",
              "      <td>13<\/td>\n",
              "      <td>55<\/td>\n",
              "      <td>57<\/td>\n",
              "      <td>17<\/td>\n",
              "      <td>12<\/td>\n",
              "      <td>228<\/td>\n",
              "      <td>19<\/td>\n",
              "      <td>15<\/td>\n",
              "      <td>0<\/td>\n",
              "      <td>82<\/td>\n",
              "      <td>2<\/td>\n",
              "    <\/tr>\n",
              "    <tr>\n",
              "      <th>Apple Airpods Headphones<\/th>\n",
              "      <td>63<\/td>\n",
              "      <td>19<\/td>\n",
              "      <td>16<\/td>\n",
              "      <td>24<\/td>\n",
              "      <td>50<\/td>\n",
              "      <td>0<\/td>\n",
              "      <td>116<\/td>\n",
              "      <td>100<\/td>\n",
              "      <td>13<\/td>\n",
              "      <td>70<\/td>\n",
              "      <td>81<\/td>\n",
              "      <td>14<\/td>\n",
              "      <td>373<\/td>\n",
              "      <td>21<\/td>\n",
              "      <td>22<\/td>\n",
              "      <td>13<\/td>\n",
              "      <td>3<\/td>\n",
              "      <td>12<\/td>\n",
              "      <td>1<\/td>\n",
              "    <\/tr>\n",
              "    <tr>\n",
              "      <th>Lightning Charging Cable<\/th>\n",
              "      <td>100<\/td>\n",
              "      <td>21<\/td>\n",
              "      <td>20<\/td>\n",
              "      <td>36<\/td>\n",
              "      <td>72<\/td>\n",
              "      <td>116<\/td>\n",
              "      <td>0<\/td>\n",
              "      <td>129<\/td>\n",
              "      <td>22<\/td>\n",
              "      <td>106<\/td>\n",
              "      <td>80<\/td>\n",
              "      <td>33<\/td>\n",
              "      <td>1015<\/td>\n",
              "      <td>28<\/td>\n",
              "      <td>34<\/td>\n",
              "      <td>26<\/td>\n",
              "      <td>3<\/td>\n",
              "      <td>4<\/td>\n",
              "      <td>6<\/td>\n",
              "    <\/tr>\n",
              "    <tr>\n",
              "      <th>Wired Headphones<\/th>\n",
              "      <td>205<\/td>\n",
              "      <td>20<\/td>\n",
              "      <td>14<\/td>\n",
              "      <td>22<\/td>\n",
              "      <td>74<\/td>\n",
              "      <td>100<\/td>\n",
              "      <td>129<\/td>\n",
              "      <td>0<\/td>\n",
              "      <td>11<\/td>\n",
              "      <td>83<\/td>\n",
              "      <td>86<\/td>\n",
              "      <td>28<\/td>\n",
              "      <td>462<\/td>\n",
              "      <td>423<\/td>\n",
              "      <td>29<\/td>\n",
              "      <td>19<\/td>\n",
              "      <td>1<\/td>\n",
              "      <td>149<\/td>\n",
              "      <td>4<\/td>\n",
              "    <\/tr>\n",
              "    <tr>\n",
              "      <th>Flatscreen TV<\/th>\n",
              "      <td>17<\/td>\n",
              "      <td>5<\/td>\n",
              "      <td>6<\/td>\n",
              "      <td>6<\/td>\n",
              "      <td>13<\/td>\n",
              "      <td>13<\/td>\n",
              "      <td>22<\/td>\n",
              "      <td>11<\/td>\n",
              "      <td>0<\/td>\n",
              "      <td>21<\/td>\n",
              "      <td>21<\/td>\n",
              "      <td>8<\/td>\n",
              "      <td>10<\/td>\n",
              "      <td>4<\/td>\n",
              "      <td>5<\/td>\n",
              "      <td>2<\/td>\n",
              "      <td>1<\/td>\n",
              "      <td>3<\/td>\n",
              "      <td>0<\/td>\n",
              "    <\/tr>\n",
              "    <tr>\n",
              "      <th>AA Batteries (4-pack)<\/th>\n",
              "      <td>75<\/td>\n",
              "      <td>17<\/td>\n",
              "      <td>17<\/td>\n",
              "      <td>26<\/td>\n",
              "      <td>55<\/td>\n",
              "      <td>70<\/td>\n",
              "      <td>106<\/td>\n",
              "      <td>83<\/td>\n",
              "      <td>21<\/td>\n",
              "      <td>0<\/td>\n",
              "      <td>87<\/td>\n",
              "      <td>32<\/td>\n",
              "      <td>32<\/td>\n",
              "      <td>25<\/td>\n",
              "      <td>26<\/td>\n",
              "      <td>16<\/td>\n",
              "      <td>6<\/td>\n",
              "      <td>12<\/td>\n",
              "      <td>1<\/td>\n",
              "    <\/tr>\n",
              "    <tr>\n",
              "      <th>AAA Batteries (4-pack)<\/th>\n",
              "      <td>95<\/td>\n",
              "      <td>18<\/td>\n",
              "      <td>27<\/td>\n",
              "      <td>43<\/td>\n",
              "      <td>57<\/td>\n",
              "      <td>81<\/td>\n",
              "      <td>80<\/td>\n",
              "      <td>86<\/td>\n",
              "      <td>21<\/td>\n",
              "      <td>87<\/td>\n",
              "      <td>0<\/td>\n",
              "      <td>25<\/td>\n",
              "      <td>31<\/td>\n",
              "      <td>22<\/td>\n",
              "      <td>30<\/td>\n",
              "      <td>11<\/td>\n",
              "      <td>2<\/td>\n",
              "      <td>6<\/td>\n",
              "      <td>4<\/td>\n",
              "    <\/tr>\n",
              "    <tr>\n",
              "      <th>34in Ultrawide Monitor<\/th>\n",
              "      <td>26<\/td>\n",
              "      <td>7<\/td>\n",
              "      <td>4<\/td>\n",
              "      <td>10<\/td>\n",
              "      <td>17<\/td>\n",
              "      <td>14<\/td>\n",
              "      <td>33<\/td>\n",
              "      <td>28<\/td>\n",
              "      <td>8<\/td>\n",
              "      <td>32<\/td>\n",
              "      <td>25<\/td>\n",
              "      <td>0<\/td>\n",
              "      <td>13<\/td>\n",
              "      <td>5<\/td>\n",
              "      <td>6<\/td>\n",
              "      <td>2<\/td>\n",
              "      <td>0<\/td>\n",
              "      <td>4<\/td>\n",
              "      <td>1<\/td>\n",
              "    <\/tr>\n",
              "    <tr>\n",
              "      <th>iPhone<\/th>\n",
              "      <td>29<\/td>\n",
              "      <td>6<\/td>\n",
              "      <td>7<\/td>\n",
              "      <td>2<\/td>\n",
              "      <td>12<\/td>\n",
              "      <td>373<\/td>\n",
              "      <td>1015<\/td>\n",
              "      <td>462<\/td>\n",
              "      <td>10<\/td>\n",
              "      <td>32<\/td>\n",
              "      <td>31<\/td>\n",
              "      <td>13<\/td>\n",
              "      <td>0<\/td>\n",
              "      <td>9<\/td>\n",
              "      <td>9<\/td>\n",
              "      <td>3<\/td>\n",
              "      <td>0<\/td>\n",
              "      <td>7<\/td>\n",
              "      <td>2<\/td>\n",
              "    <\/tr>\n",
              "    <tr>\n",
              "      <th>Google Phone<\/th>\n",
              "      <td>999<\/td>\n",
              "      <td>7<\/td>\n",
              "      <td>6<\/td>\n",
              "      <td>8<\/td>\n",
              "      <td>228<\/td>\n",
              "      <td>21<\/td>\n",
              "      <td>28<\/td>\n",
              "      <td>423<\/td>\n",
              "      <td>4<\/td>\n",
              "      <td>25<\/td>\n",
              "      <td>22<\/td>\n",
              "      <td>5<\/td>\n",
              "      <td>9<\/td>\n",
              "      <td>0<\/td>\n",
              "      <td>6<\/td>\n",
              "      <td>4<\/td>\n",
              "      <td>1<\/td>\n",
              "      <td>5<\/td>\n",
              "      <td>1<\/td>\n",
              "    <\/tr>\n",
              "    <tr>\n",
              "      <th>27in 4K Gaming Monitor<\/th>\n",
              "      <td>23<\/td>\n",
              "      <td>13<\/td>\n",
              "      <td>5<\/td>\n",
              "      <td>8<\/td>\n",
              "      <td>19<\/td>\n",
              "      <td>22<\/td>\n",
              "      <td>34<\/td>\n",
              "      <td>29<\/td>\n",
              "      <td>5<\/td>\n",
              "      <td>26<\/td>\n",
              "      <td>30<\/td>\n",
              "      <td>6<\/td>\n",
              "      <td>9<\/td>\n",
              "      <td>6<\/td>\n",
              "      <td>0<\/td>\n",
              "      <td>2<\/td>\n",
              "      <td>2<\/td>\n",
              "      <td>3<\/td>\n",
              "      <td>1<\/td>\n",
              "    <\/tr>\n",
              "    <tr>\n",
              "      <th>20in Monitor<\/th>\n",
              "      <td>25<\/td>\n",
              "      <td>6<\/td>\n",
              "      <td>2<\/td>\n",
              "      <td>5<\/td>\n",
              "      <td>15<\/td>\n",
              "      <td>13<\/td>\n",
              "      <td>26<\/td>\n",
              "      <td>19<\/td>\n",
              "      <td>2<\/td>\n",
              "      <td>16<\/td>\n",
              "      <td>11<\/td>\n",
              "      <td>2<\/td>\n",
              "      <td>3<\/td>\n",
              "      <td>4<\/td>\n",
              "      <td>2<\/td>\n",
              "      <td>0<\/td>\n",
              "      <td>0<\/td>\n",
              "      <td>0<\/td>\n",
              "      <td>2<\/td>\n",
              "    <\/tr>\n",
              "    <tr>\n",
              "      <th>LG Dryer<\/th>\n",
              "      <td>1<\/td>\n",
              "      <td>0<\/td>\n",
              "      <td>1<\/td>\n",
              "      <td>3<\/td>\n",
              "      <td>0<\/td>\n",
              "      <td>3<\/td>\n",
              "      <td>3<\/td>\n",
              "      <td>1<\/td>\n",
              "      <td>1<\/td>\n",
              "      <td>6<\/td>\n",
              "      <td>2<\/td>\n",
              "      <td>0<\/td>\n",
              "      <td>0<\/td>\n",
              "      <td>1<\/td>\n",
              "      <td>2<\/td>\n",
              "      <td>0<\/td>\n",
              "      <td>0<\/td>\n",
              "      <td>1<\/td>\n",
              "      <td>0<\/td>\n",
              "    <\/tr>\n",
              "    <tr>\n",
              "      <th>Vareebadd Phone<\/th>\n",
              "      <td>368<\/td>\n",
              "      <td>0<\/td>\n",
              "      <td>3<\/td>\n",
              "      <td>2<\/td>\n",
              "      <td>82<\/td>\n",
              "      <td>12<\/td>\n",
              "      <td>4<\/td>\n",
              "      <td>149<\/td>\n",
              "      <td>3<\/td>\n",
              "      <td>12<\/td>\n",
              "      <td>6<\/td>\n",
              "      <td>4<\/td>\n",
              "      <td>7<\/td>\n",
              "      <td>5<\/td>\n",
              "      <td>3<\/td>\n",
              "      <td>0<\/td>\n",
              "      <td>1<\/td>\n",
              "      <td>0<\/td>\n",
              "      <td>0<\/td>\n",
              "    <\/tr>\n",
              "    <tr>\n",
              "      <th>LG Washing Machine<\/th>\n",
              "      <td>0<\/td>\n",
              "      <td>2<\/td>\n",
              "      <td>0<\/td>\n",
              "      <td>1<\/td>\n",
              "      <td>2<\/td>\n",
              "      <td>1<\/td>\n",
              "      <td>6<\/td>\n",
              "      <td>4<\/td>\n",
              "      <td>0<\/td>\n",
              "      <td>1<\/td>\n",
              "      <td>4<\/td>\n",
              "      <td>1<\/td>\n",
              "      <td>2<\/td>\n",
              "      <td>1<\/td>\n",
              "      <td>1<\/td>\n",
              "      <td>2<\/td>\n",
              "      <td>0<\/td>\n",
              "      <td>0<\/td>\n",
              "      <td>0<\/td>\n",
              "    <\/tr>\n",
              "  <\/tbody>\n",
              "<\/table>\n",
              "<\/div>"
            ]
          },
          "metadata":{
            
          },
          "output_type":"display_data"
        }
      ],
      "metadata":{
        
      }
    },
    {
      "cell_type":"code",
      "source":[
        "plt.subplots(figsize=(20,15))\n",
        "sns.heatmap(d, annot = True, cmap= 'coolwarm', fmt='d')"
      ],
      "execution_count":0,
      "outputs":[
        {
          "data":{
            "text\/plain":[
              "<AxesSubplot:>"
            ],
            "image\/png":"[encoded data removed]"
          },
          "metadata":{
            "image\/png":{
              "width":0,
              "height":0
            }
          },
          "output_type":"display_data"
        }
      ],
      "metadata":{
        
      }
    },
    {
      "cell_type":"code",
      "source":[
        "from itertools import combinations\n",
        "from collections import Counter\n",
        "\n",
        "\n",
        "count = Counter()\n",
        "\n",
        "for row in product_list_df['Product']:\n",
        "    count.update(Counter(combinations(row, 2)))\n",
        "\n",
        "for key, value in count.most_common(10):\n",
        "    print (key, value)"
      ],
      "execution_count":0,
      "outputs":[
        {
          "name":"stdout",
          "text":[
            "('iPhone', 'Lightning Charging Cable') 1005\n",
            "('Google Phone', 'USB-C Charging Cable') 987\n",
            "('iPhone', 'Wired Headphones') 447\n",
            "('Google Phone', 'Wired Headphones') 414\n",
            "('Vareebadd Phone', 'USB-C Charging Cable') 361\n",
            "('iPhone', 'Apple Airpods Headphones') 360\n",
            "('Google Phone', 'Bose SoundSport Headphones') 220\n",
            "('USB-C Charging Cable', 'Wired Headphones') 160\n",
            "('Vareebadd Phone', 'Wired Headphones') 143\n",
            "('Lightning Charging Cable', 'Wired Headphones') 92\n"
          ],
          "output_type":"stream"
        }
      ],
      "metadata":{
        
      }
    },
    {
      "cell_type":"markdown",
      "source":[
        "## What product sold the most?\n",
        "\n",
        "Price is correlated with the quantity was sold.\n",
        "\n",
        "1. AA Batteries (4-pack)       -      3.84   - 27635 items\n",
        "        \n",
        "2. AAA Batteries (4-pack)      -      2.99 - 31017 items\n",
        "\n",
        "\n",
        "\n",
        "**Correlation is about ~ -0.6. So we can say that there is correlation** "
      ],
      "metadata":{
        
      }
    },
    {
      "cell_type":"code",
      "source":[
        "product_amount = df.groupby('Product').sum()['Quantity Ordered'].sort_index()\n",
        "product_amount"
      ],
      "execution_count":0,
      "outputs":[
        {
          "data":{
            "text\/plain":[
              "Product\n",
              "20in Monitor                   4129\n",
              "27in 4K Gaming Monitor         6244\n",
              "27in FHD Monitor               7550\n",
              "34in Ultrawide Monitor         6199\n",
              "AA Batteries (4-pack)         27635\n",
              "AAA Batteries (4-pack)        31017\n",
              "Apple Airpods Headphones      15661\n",
              "Bose SoundSport Headphones    13457\n",
              "Flatscreen TV                  4819\n",
              "Google Phone                   5532\n",
              "LG Dryer                        646\n",
              "LG Washing Machine              666\n",
              "Lightning Charging Cable      23217\n",
              "Macbook Pro Laptop             4728\n",
              "ThinkPad Laptop                4130\n",
              "USB-C Charging Cable          23975\n",
              "Vareebadd Phone                2068\n",
              "Wired Headphones              20557\n",
              "iPhone                         6849\n",
              "Name: Quantity Ordered, dtype: int64"
            ]
          },
          "metadata":{
            
          },
          "output_type":"display_data"
        }
      ],
      "metadata":{
        
      }
    },
    {
      "cell_type":"code",
      "source":[
        "products = product_amount.index.to_list()\n",
        "plt.xticks(rotation = 'vertical')\n",
        "plt.bar(products, product_amount)\n",
        "plt.xlabel(\"Product\")\n",
        "plt.ylabel(\"Quantity sold\")\n",
        "plt.show()"
      ],
      "execution_count":0,
      "outputs":[
        {
          "data":{
            "image\/png":"[encoded data removed]"
          },
          "metadata":{
            "image\/png":{
              "width":0,
              "height":0
            }
          },
          "output_type":"display_data"
        }
      ],
      "metadata":{
        
      }
    },
    {
      "cell_type":"code",
      "source":[
        "prices = df.groupby(\"Product\")['Price Each'].mean().sort_index()\n",
        "prices"
      ],
      "execution_count":0,
      "outputs":[
        {
          "data":{
            "text\/plain":[
              "Product\n",
              "20in Monitor                   109.99\n",
              "27in 4K Gaming Monitor         389.99\n",
              "27in FHD Monitor               149.99\n",
              "34in Ultrawide Monitor         379.99\n",
              "AA Batteries (4-pack)            3.84\n",
              "AAA Batteries (4-pack)           2.99\n",
              "Apple Airpods Headphones       150.00\n",
              "Bose SoundSport Headphones      99.99\n",
              "Flatscreen TV                  300.00\n",
              "Google Phone                   600.00\n",
              "LG Dryer                       600.00\n",
              "LG Washing Machine             600.00\n",
              "Lightning Charging Cable        14.95\n",
              "Macbook Pro Laptop            1700.00\n",
              "ThinkPad Laptop                999.99\n",
              "USB-C Charging Cable            11.95\n",
              "Vareebadd Phone                400.00\n",
              "Wired Headphones                11.99\n",
              "iPhone                         700.00\n",
              "Name: Price Each, dtype: float64"
            ]
          },
          "metadata":{
            
          },
          "output_type":"display_data"
        }
      ],
      "metadata":{
        
      }
    },
    {
      "cell_type":"code",
      "source":[
        "fig, ax1 = plt.subplots()\n",
        "\n",
        "ax2 = ax1.twinx()\n",
        "\n",
        "ax1.bar(products, product_amount )\n",
        "ax2.plot(products, prices, 'r-')\n",
        "\n",
        "ax1.set_xlabel('Product')\n",
        "ax1.set_ylabel('Quantity')\n",
        "\n",
        "ax2.set_ylabel('Price $', color = 'r')\n",
        "\n",
        "ax1.set_xticklabels(products, rotation = 'vertical')\n",
        "\n",
        "plt.show()"
      ],
      "execution_count":0,
      "outputs":[
        {
          "name":"stderr",
          "text":[
            "\/opt\/datalore\/python\/datalore\/core\/evaluation_engine\/evaluation_process.py:13: UserWarning: FixedFormatter should only be used together with FixedLocator\n",
            "  registry.register_serialization()\n"
          ],
          "output_type":"stream"
        },
        {
          "data":{
            "image\/png":"[encoded data removed]"
          },
          "metadata":{
            "image\/png":{
              "width":0,
              "height":0
            }
          },
          "output_type":"display_data"
        }
      ],
      "metadata":{
        
      }
    },
    {
      "cell_type":"code",
      "source":[
        "prices.to_frame()['Price Each'].corr(product_amount.to_frame()['Quantity Ordered'])"
      ],
      "execution_count":0,
      "outputs":[
        {
          "data":{
            "text\/plain":[
              "-0.601443055993453"
            ]
          },
          "metadata":{
            
          },
          "output_type":"display_data"
        }
      ],
      "metadata":{
        
      }
    },
    {
      "cell_type":"code",
      "source":[
        
      ],
      "execution_count":0,
      "outputs":[
        
      ],
      "metadata":{
        
      }
    }
  ],
  "metadata":{
    
  },
  "nbformat":4,
  "nbformat_minor":0
}
